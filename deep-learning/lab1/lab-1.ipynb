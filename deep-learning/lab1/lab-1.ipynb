{
 "cells": [
  {
   "cell_type": "markdown",
   "metadata": {},
   "source": [
    "Deep Learning with Tensorflow\n",
    "=============\n",
    " Lab Exercise 1\n",
    " ----\n",
    "\n",
    "\n",
    "The objective of this lab is to learn about simple data curation practices, and familiarize you with some of the data we'll be reusing later. In addtion, we are going to build a simple Logistic Regresison model, evaluate its performance and visualize its weights. At the end, we will be touching some Tensorflow Basics.\n",
    "\n",
    "This notebook uses the [notMNIST](http://yaroslavvb.blogspot.com/2011/09/notmnist-dataset.html) dataset to be used with python experiments. This dataset is designed to look like the classic [MNIST](http://yann.lecun.com/exdb/mnist/) dataset, while looking a little more like real data: it's a harder task, and the data is a lot less 'clean' than MNIST."
   ]
  },
  {
   "cell_type": "code",
   "execution_count": 33,
   "metadata": {},
   "outputs": [],
   "source": [
    "# These are all the modules we'll be using later. Make sure you can import them\n",
    "# before proceeding further.\n",
    "import imageio\n",
    "import matplotlib.pyplot as plt\n",
    "import numpy as np\n",
    "import os\n",
    "import sys\n",
    "import tarfile\n",
    "from IPython.display import display, Image\n",
    "from sklearn.linear_model import LogisticRegression\n",
    "from six.moves.urllib.request import urlretrieve\n",
    "from six.moves import cPickle as pickle\n",
    "import tensorflow as tf"
   ]
  },
  {
   "cell_type": "code",
   "execution_count": 34,
   "metadata": {},
   "outputs": [],
   "source": [
    "# Config the matplotlib backend as plotting inline in IPython\n",
    "%matplotlib inline"
   ]
  },
  {
   "cell_type": "markdown",
   "metadata": {},
   "source": [
    "First, we'll download the dataset to our local machine. The data consists of characters rendered in a variety of fonts on a 28x28 image. The labels are limited to 'A' through 'J' (10 classes). The training set has about 500k and the testset 19000 labeled examples. Given these sizes, it should be possible to train models quickly on any machine."
   ]
  },
  {
   "cell_type": "code",
   "execution_count": 35,
   "metadata": {},
   "outputs": [
    {
     "output_type": "stream",
     "name": "stdout",
     "text": "Attempting to download: notMNIST_large.tar.gz\n0%....5%....10%....15%....20%....25%....30%....35%....40%....45%....50%....55%....60%....65%....70%....75%....80%....85%....90%....95%....100%\nDownload Complete!\nFound and verified ./notMNIST_large.tar.gz\nAttempting to download: notMNIST_small.tar.gz\n0%....5%....10%....15%....20%....25%....30%....35%....40%....45%....50%....55%....60%....65%....70%....75%....80%....85%....90%....95%....100%\nDownload Complete!\nFound and verified ./notMNIST_small.tar.gz\n"
    }
   ],
   "source": [
    "url = 'https://commondatastorage.googleapis.com/books1000/'\n",
    "last_percent_reported = None\n",
    "data_root = './' # Change me to store data elsewhere\n",
    "\n",
    "def download_progress_hook(count, blockSize, totalSize):\n",
    "  \"\"\"A hook to report the progress of a download. This is mostly intended for users with\n",
    "  slow internet connections. Reports every 5% change in download progress.\n",
    "  \"\"\"\n",
    "  global last_percent_reported\n",
    "  percent = int(count * blockSize * 100 / totalSize)\n",
    "\n",
    "  if last_percent_reported != percent:\n",
    "    if percent % 5 == 0:\n",
    "      sys.stdout.write(\"%s%%\" % percent)\n",
    "      sys.stdout.flush()\n",
    "    else:\n",
    "      sys.stdout.write(\".\")\n",
    "      sys.stdout.flush()\n",
    "      \n",
    "    last_percent_reported = percent\n",
    "        \n",
    "def maybe_download(filename, expected_bytes, force=False):\n",
    "  \"\"\"Download a file if not present, and make sure it's the right size.\"\"\"\n",
    "  dest_filename = os.path.join(data_root, filename)\n",
    "  if force or not os.path.exists(dest_filename):\n",
    "    print('Attempting to download:', filename) \n",
    "    filename, _ = urlretrieve(url + filename, dest_filename, reporthook=download_progress_hook)\n",
    "    print('\\nDownload Complete!')\n",
    "  statinfo = os.stat(dest_filename)\n",
    "  if statinfo.st_size == expected_bytes:\n",
    "    print('Found and verified', dest_filename)\n",
    "  else:\n",
    "    raise Exception(\n",
    "      'Failed to verify ' + dest_filename + '. Can you get to it with a browser?')\n",
    "  return dest_filename\n",
    "\n",
    "train_filename = maybe_download('notMNIST_large.tar.gz', 247336696)\n",
    "test_filename = maybe_download('notMNIST_small.tar.gz', 8458043)"
   ]
  },
  {
   "cell_type": "markdown",
   "metadata": {},
   "source": [
    "Extract the dataset from the compressed .tar.gz file.\n",
    "This should give you a set of directories, labeled A through J."
   ]
  },
  {
   "cell_type": "code",
   "execution_count": 53,
   "metadata": {},
   "outputs": [
    {
     "output_type": "stream",
     "name": "stdout",
     "text": "Extracting data for ./notMNIST_large. This may take a while. Please wait.\n['./notMNIST_large/A', './notMNIST_large/B', './notMNIST_large/C', './notMNIST_large/D', './notMNIST_large/E', './notMNIST_large/F', './notMNIST_large/G', './notMNIST_large/H', './notMNIST_large/I', './notMNIST_large/J']\nExtracting data for ./notMNIST_small. This may take a while. Please wait.\n['./notMNIST_small/A', './notMNIST_small/B', './notMNIST_small/C', './notMNIST_small/D', './notMNIST_small/E', './notMNIST_small/F', './notMNIST_small/G', './notMNIST_small/H', './notMNIST_small/I', './notMNIST_small/J']\n"
    }
   ],
   "source": [
    "num_classes = 10\n",
    "np.random.seed(133)\n",
    "\n",
    "def maybe_extract(filename, force=False):\n",
    "  root = os.path.splitext(os.path.splitext(filename)[0])[0]  # remove .tar.gz\n",
    "  if os.path.isdir(root) and not force:\n",
    "    # You may override by setting force=True.\n",
    "    print('%s already present - Skipping extraction of %s.' % (root, filename))\n",
    "  else:\n",
    "    print('Extracting data for %s. This may take a while. Please wait.' % root)\n",
    "    tar = tarfile.open(filename)\n",
    "    sys.stdout.flush()\n",
    "    tar.extractall(data_root)\n",
    "    tar.close()\n",
    "  data_folders = [\n",
    "    os.path.join(root, d) for d in sorted(os.listdir(root))\n",
    "    if os.path.isdir(os.path.join(root, d))]\n",
    "  if len(data_folders) != num_classes:\n",
    "    raise Exception(\n",
    "      'Expected %d folders, one per class. Found %d instead.' % (\n",
    "        num_classes, len(data_folders)))\n",
    "  print(data_folders)\n",
    "  return data_folders\n",
    "  \n",
    "train_folders = maybe_extract(train_filename)\n",
    "test_folders = maybe_extract(test_filename)"
   ]
  },
  {
   "cell_type": "markdown",
   "metadata": {},
   "source": [
    "---\n",
    "Problem 1\n",
    "---------\n",
    "\n",
    "Let's take a peek at some of the data to make sure it looks sensible. Each exemplar should be an image of a character A through J rendered in a different font. Display a sample of the images that we just downloaded. Hint: you can use the package IPython.display.\n",
    "\n",
    "---"
   ]
  },
  {
   "cell_type": "markdown",
   "metadata": {},
   "source": [
    "Now let's load the data in a more manageable format. Since, depending on your computer setup you might not be able to fit it all in memory, we'll load each class into a separate dataset, store them on disk and curate them independently. Later we'll merge them into a single dataset of manageable size.\n",
    "\n",
    "We'll convert the entire dataset into a 3D array (image index, x, y) of floating point values, normalized to have approximately zero mean and standard deviation ~0.5 to make training easier down the road. \n",
    "\n",
    "A few images might not be readable, we'll just skip them."
   ]
  },
  {
   "cell_type": "code",
   "execution_count": 55,
   "metadata": {
    "scrolled": true
   },
   "outputs": [
    {
     "output_type": "stream",
     "name": "stdout",
     "text": "Pickling ./notMNIST_large/A.pickle.\n./notMNIST_large/A\nCould not read: ./notMNIST_large/A/RnJlaWdodERpc3BCb29rSXRhbGljLnR0Zg==.png : Could not find a format to read the specified file in single-image mode - it's ok, skipping.\nCould not read: ./notMNIST_large/A/Um9tYW5hIEJvbGQucGZi.png : Could not find a format to read the specified file in single-image mode - it's ok, skipping.\nCould not read: ./notMNIST_large/A/SG90IE11c3RhcmQgQlROIFBvc3Rlci50dGY=.png : Could not find a format to read the specified file in single-image mode - it's ok, skipping.\nFull dataset tensor: (52909, 28, 28)\nMean: -0.12825038\nStandard deviation: 0.4431209\nPickling ./notMNIST_large/B.pickle.\n./notMNIST_large/B\nCould not read: ./notMNIST_large/B/TmlraXNFRi1TZW1pQm9sZEl0YWxpYy5vdGY=.png : Could not find a format to read the specified file in single-image mode - it's ok, skipping.\nFull dataset tensor: (52911, 28, 28)\nMean: -0.007563031\nStandard deviation: 0.45449144\nPickling ./notMNIST_large/C.pickle.\n./notMNIST_large/C\nFull dataset tensor: (52912, 28, 28)\nMean: -0.14225803\nStandard deviation: 0.4398064\nPickling ./notMNIST_large/D.pickle.\n./notMNIST_large/D\nCould not read: ./notMNIST_large/D/VHJhbnNpdCBCb2xkLnR0Zg==.png : Could not find a format to read the specified file in single-image mode - it's ok, skipping.\nFull dataset tensor: (52911, 28, 28)\nMean: -0.057367746\nStandard deviation: 0.45564738\nPickling ./notMNIST_large/E.pickle.\n./notMNIST_large/E\nFull dataset tensor: (52912, 28, 28)\nMean: -0.06989904\nStandard deviation: 0.45294148\nPickling ./notMNIST_large/F.pickle.\n./notMNIST_large/F\nFull dataset tensor: (52912, 28, 28)\nMean: -0.12558334\nStandard deviation: 0.44708934\nPickling ./notMNIST_large/G.pickle.\n./notMNIST_large/G\nFull dataset tensor: (52912, 28, 28)\nMean: -0.09458157\nStandard deviation: 0.44623974\nPickling ./notMNIST_large/H.pickle.\n./notMNIST_large/H\nFull dataset tensor: (52912, 28, 28)\nMean: -0.06852213\nStandard deviation: 0.45423186\nPickling ./notMNIST_large/I.pickle.\n./notMNIST_large/I\nFull dataset tensor: (52912, 28, 28)\nMean: 0.030786254\nStandard deviation: 0.46889815\nPickling ./notMNIST_large/J.pickle.\n./notMNIST_large/J\nFull dataset tensor: (52911, 28, 28)\nMean: -0.15335812\nStandard deviation: 0.44365624\nPickling ./notMNIST_small/A.pickle.\n./notMNIST_small/A\nCould not read: ./notMNIST_small/A/RGVtb2NyYXRpY2FCb2xkT2xkc3R5bGUgQm9sZC50dGY=.png : Could not find a format to read the specified file in single-image mode - it's ok, skipping.\nFull dataset tensor: (1872, 28, 28)\nMean: -0.13262635\nStandard deviation: 0.44512796\nPickling ./notMNIST_small/B.pickle.\n./notMNIST_small/B\nFull dataset tensor: (1873, 28, 28)\nMean: 0.0053560804\nStandard deviation: 0.45711532\nPickling ./notMNIST_small/C.pickle.\n./notMNIST_small/C\nFull dataset tensor: (1873, 28, 28)\nMean: -0.14152053\nStandard deviation: 0.44269028\nPickling ./notMNIST_small/D.pickle.\n./notMNIST_small/D\nFull dataset tensor: (1873, 28, 28)\nMean: -0.04921666\nStandard deviation: 0.45975894\nPickling ./notMNIST_small/E.pickle.\n./notMNIST_small/E\nFull dataset tensor: (1873, 28, 28)\nMean: -0.059914775\nStandard deviation: 0.45734966\nPickling ./notMNIST_small/F.pickle.\n./notMNIST_small/F\nCould not read: ./notMNIST_small/F/Q3Jvc3NvdmVyIEJvbGRPYmxpcXVlLnR0Zg==.png : Could not find a format to read the specified file in single-image mode - it's ok, skipping.\nFull dataset tensor: (1872, 28, 28)\nMean: -0.11818536\nStandard deviation: 0.45227855\nPickling ./notMNIST_small/G.pickle.\n./notMNIST_small/G\nFull dataset tensor: (1872, 28, 28)\nMean: -0.09255032\nStandard deviation: 0.44900596\nPickling ./notMNIST_small/H.pickle.\n./notMNIST_small/H\nFull dataset tensor: (1872, 28, 28)\nMean: -0.058689233\nStandard deviation: 0.45875892\nPickling ./notMNIST_small/I.pickle.\n./notMNIST_small/I\nFull dataset tensor: (1872, 28, 28)\nMean: 0.052645072\nStandard deviation: 0.47189352\nPickling ./notMNIST_small/J.pickle.\n./notMNIST_small/J\nFull dataset tensor: (1872, 28, 28)\nMean: -0.1516892\nStandard deviation: 0.44801357\n"
    }
   ],
   "source": [
    "image_size = 28  # Pixel width and height.\n",
    "pixel_depth = 255.0  # Number of levels per pixel.\n",
    "\n",
    "def load_letter(folder, min_num_images):\n",
    "  \"\"\"Load the data for a single letter label.\"\"\"\n",
    "  image_files = os.listdir(folder)\n",
    "  dataset = np.ndarray(shape=(len(image_files), image_size, image_size),\n",
    "                         dtype=np.float32)\n",
    "  print(folder)\n",
    "  num_images = 0\n",
    "  for image in image_files:\n",
    "    image_file = os.path.join(folder, image)\n",
    "    try:\n",
    "      image_data = (imageio.imread(image_file).astype(float) - \n",
    "                    pixel_depth / 2) / pixel_depth\n",
    "      if image_data.shape != (image_size, image_size):\n",
    "        raise Exception('Unexpected image shape: %s' % str(image_data.shape))\n",
    "      dataset[num_images, :, :] = image_data\n",
    "      num_images = num_images + 1\n",
    "    except (IOError, ValueError) as e:\n",
    "      print('Could not read:', image_file, ':', e, '- it\\'s ok, skipping.')\n",
    "    \n",
    "  dataset = dataset[0:num_images, :, :]\n",
    "  if num_images < min_num_images:\n",
    "    raise Exception('Many fewer images than expected: %d < %d' %\n",
    "                    (num_images, min_num_images))\n",
    "    \n",
    "  print('Full dataset tensor:', dataset.shape)\n",
    "  print('Mean:', np.mean(dataset))\n",
    "  print('Standard deviation:', np.std(dataset))\n",
    "  return dataset\n",
    "        \n",
    "def maybe_pickle(data_folders, min_num_images_per_class, force=False):\n",
    "  dataset_names = []\n",
    "  for folder in data_folders:\n",
    "    set_filename = folder + '.pickle'\n",
    "    dataset_names.append(set_filename)\n",
    "    if os.path.exists(set_filename) and not force:\n",
    "      # You may override by setting force=True.\n",
    "      print('%s already present - Skipping pickling.' % set_filename)\n",
    "    else:\n",
    "      print('Pickling %s.' % set_filename)\n",
    "      dataset = load_letter(folder, min_num_images_per_class)\n",
    "      try:\n",
    "        with open(set_filename, 'wb') as f:\n",
    "          pickle.dump(dataset, f, pickle.HIGHEST_PROTOCOL)\n",
    "      except Exception as e:\n",
    "        print('Unable to save data to', set_filename, ':', e)\n",
    "  \n",
    "  return dataset_names\n",
    "\n",
    "train_datasets = maybe_pickle(train_folders, 45000)\n",
    "test_datasets = maybe_pickle(test_folders, 1800)"
   ]
  },
  {
   "cell_type": "code",
   "execution_count": 56,
   "metadata": {},
   "outputs": [
    {
     "output_type": "stream",
     "name": "stdout",
     "text": "\n./notMNIST_large/A/VmFkaW0ncyBXcml0aW5nLnR0Zg==.png\n"
    },
    {
     "output_type": "display_data",
     "data": {
      "image/png": "[encoded data removed]",
      "text/plain": "<IPython.core.display.Image object>"
     },
     "metadata": {}
    },
    {
     "output_type": "stream",
     "name": "stdout",
     "text": "./notMNIST_large/B/VmFkaW0ncyBXcml0aW5nLnR0Zg==.png\n"
    },
    {
     "output_type": "display_data",
     "data": {
      "image/png": "[encoded data removed]",
      "text/plain": "<IPython.core.display.Image object>"
     },
     "metadata": {}
    },
    {
     "output_type": "stream",
     "name": "stdout",
     "text": "./notMNIST_large/C/VmFkaW0ncyBXcml0aW5nLnR0Zg==.png\n"
    },
    {
     "output_type": "display_data",
     "data": {
      "image/png": "[encoded data removed]",
      "text/plain": "<IPython.core.display.Image object>"
     },
     "metadata": {}
    },
    {
     "output_type": "stream",
     "name": "stdout",
     "text": "./notMNIST_large/D/VmFkaW0ncyBXcml0aW5nLnR0Zg==.png\n"
    },
    {
     "output_type": "display_data",
     "data": {
      "image/png": "[encoded data removed]",
      "text/plain": "<IPython.core.display.Image object>"
     },
     "metadata": {}
    },
    {
     "output_type": "stream",
     "name": "stdout",
     "text": "./notMNIST_large/E/VmFkaW0ncyBXcml0aW5nLnR0Zg==.png\n"
    },
    {
     "output_type": "display_data",
     "data": {
      "image/png": "[encoded data removed]",
      "text/plain": "<IPython.core.display.Image object>"
     },
     "metadata": {}
    },
    {
     "output_type": "stream",
     "name": "stdout",
     "text": "./notMNIST_large/F/VmFkaW0ncyBXcml0aW5nLnR0Zg==.png\n"
    },
    {
     "output_type": "display_data",
     "data": {
      "image/png": "[encoded data removed]",
      "text/plain": "<IPython.core.display.Image object>"
     },
     "metadata": {}
    },
    {
     "output_type": "stream",
     "name": "stdout",
     "text": "./notMNIST_large/G/VmFkaW0ncyBXcml0aW5nLnR0Zg==.png\n"
    },
    {
     "output_type": "display_data",
     "data": {
      "image/png": "[encoded data removed]",
      "text/plain": "<IPython.core.display.Image object>"
     },
     "metadata": {}
    },
    {
     "output_type": "stream",
     "name": "stdout",
     "text": "./notMNIST_large/H/VmFkaW0ncyBXcml0aW5nLnR0Zg==.png\n"
    },
    {
     "output_type": "display_data",
     "data": {
      "image/png": "[encoded data removed]",
      "text/plain": "<IPython.core.display.Image object>"
     },
     "metadata": {}
    },
    {
     "output_type": "stream",
     "name": "stdout",
     "text": "./notMNIST_large/I/VmFkaW0ncyBXcml0aW5nLnR0Zg==.png\n"
    },
    {
     "output_type": "display_data",
     "data": {
      "image/png": "[encoded data removed]",
      "text/plain": "<IPython.core.display.Image object>"
     },
     "metadata": {}
    },
    {
     "output_type": "stream",
     "name": "stdout",
     "text": "./notMNIST_large/J/VmFkaW0ncyBXcml0aW5nLnR0Zg==.png\n"
    },
    {
     "output_type": "display_data",
     "data": {
      "image/png": "[encoded data removed]",
      "text/plain": "<IPython.core.display.Image object>"
     },
     "metadata": {}
    }
   ],
   "source": [
    "from IPython import display\n",
    "import os\n",
    "\n",
    "print()\n",
    "\n",
    "num_of_images_to_display = 10\n",
    "for folder_path in train_folders[:num_of_images_to_display]:\n",
    "    image_in_folder = os.listdir(folder_path)[0]\n",
    "    \n",
    "    full_image_path = folder_path+ '/'+ image_in_folder\n",
    "    print(full_image_path)\n",
    "    display.display(display.Image(filename=full_image_path))\n"
   ]
  },
  {
   "cell_type": "markdown",
   "metadata": {},
   "source": [
    "---\n",
    "Problem 2\n",
    "---------\n",
    "\n",
    "Let's verify that the data still looks good. Displaying a sample of the labels and images from the ndarray. Hint: you have to use pickle and matplotlib.pyplot, also take a look at matplotlib.cm\n",
    "\n",
    "---"
   ]
  },
  {
   "cell_type": "code",
   "execution_count": 57,
   "metadata": {},
   "outputs": [
    {
     "output_type": "display_data",
     "data": {
      "text/plain": "<Figure size 432x288 with 10 Axes>",
      "image/svg+xml": "<?xml version=\"1.0\" encoding=\"utf-8\" standalone=\"no\"?>\n<!DOCTYPE svg PUBLIC \"-//W3C//DTD SVG 1.1//EN\"\n  \"http://www.w3.org/Graphics/SVG/1.1/DTD/svg11.dtd\">\n<!-- Created with matplotlib (https://matplotlib.org/) -->\n<svg height=\"116.685127pt\" version=\"1.1\" viewBox=\"0 0 351.705727 116.685127\" width=\"351.705727pt\" xmlns=\"http://www.w3.org/2000/svg\" xmlns:xlink=\"http://www.w3.org/1999/xlink\">\n <defs>\n  <style type=\"text/css\">\n*{stroke-linecap:butt;stroke-linejoin:round;}\n  </style>\n </defs>\n <g id=\"figure_1\">\n  <g id=\"patch_1\">\n   <path d=\"M 0 116.685127 \nL 351.705727 116.685127 \nL 351.705727 0 \nL 0 0 \nz\n\" style=\"fill:none;\"/>\n  </g>\n  <g id=\"axes_1\">\n   <g id=\"patch_2\">\n    <path d=\"M 26.925 47.819416 \nL 64.414655 47.819416 \nL 64.414655 10.329761 \nL 26.925 10.329761 \nz\n\" style=\"fill:#ffffff;\"/>\n   </g>\n   <g clip-path=\"url(#pf64d653716)\">\n    <image height=\"38\" id=\"imageafe4fd7ea2\" transform=\"scale(1 -1)translate(0 -38)\" width=\"38\" x=\"26.925\" xlink:href=\"data:image/png;base64,\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\" y=\"-9.819416\"/>\n   </g>\n   <g id=\"matplotlib.axis_1\">\n    <g id=\"xtick_1\">\n     <g id=\"line2d_1\">\n      <defs>\n       <path d=\"M 0 0 \nL 0 3.5 \n\" id=\"ma3ea6bd9c7\" style=\"stroke:#000000;stroke-width:0.8;\"/>\n      </defs>\n      <g>\n       <use style=\"stroke:#000000;stroke-width:0.8;\" x=\"27.594458\" xlink:href=\"#ma3ea6bd9c7\" y=\"47.819416\"/>\n      </g>\n     </g>\n     <g id=\"text_1\">\n      <!-- 0 -->\n      <defs>\n       <path d=\"M 31.78125 66.40625 \nQ 24.171875 66.40625 20.328125 58.90625 \nQ 16.5 51.421875 16.5 36.375 \nQ 16.5 21.390625 20.328125 13.890625 \nQ 24.171875 6.390625 31.78125 6.390625 \nQ 39.453125 6.390625 43.28125 13.890625 \nQ 47.125 21.390625 47.125 36.375 \nQ 47.125 51.421875 43.28125 58.90625 \nQ 39.453125 66.40625 31.78125 66.40625 \nz\nM 31.78125 74.21875 \nQ 44.046875 74.21875 50.515625 64.515625 \nQ 56.984375 54.828125 56.984375 36.375 \nQ 56.984375 17.96875 50.515625 8.265625 \nQ 44.046875 -1.421875 31.78125 -1.421875 \nQ 19.53125 -1.421875 13.0625 8.265625 \nQ 6.59375 17.96875 6.59375 36.375 \nQ 6.59375 54.828125 13.0625 64.515625 \nQ 19.53125 74.21875 31.78125 74.21875 \nz\n\" id=\"DejaVuSans-48\"/>\n      </defs>\n      <g transform=\"translate(24.413208 62.417853)scale(0.1 -0.1)\">\n       <use xlink:href=\"#DejaVuSans-48\"/>\n      </g>\n     </g>\n    </g>\n    <g id=\"xtick_2\">\n     <g id=\"line2d_2\">\n      <g>\n       <use style=\"stroke:#000000;stroke-width:0.8;\" x=\"61.067365\" xlink:href=\"#ma3ea6bd9c7\" y=\"47.819416\"/>\n      </g>\n     </g>\n     <g id=\"text_2\">\n      <!-- 25 -->\n      <defs>\n       <path d=\"M 19.1875 8.296875 \nL 53.609375 8.296875 \nL 53.609375 0 \nL 7.328125 0 \nL 7.328125 8.296875 \nQ 12.9375 14.109375 22.625 23.890625 \nQ 32.328125 33.6875 34.8125 36.53125 \nQ 39.546875 41.84375 41.421875 45.53125 \nQ 43.3125 49.21875 43.3125 52.78125 \nQ 43.3125 58.59375 39.234375 62.25 \nQ 35.15625 65.921875 28.609375 65.921875 \nQ 23.96875 65.921875 18.8125 64.3125 \nQ 13.671875 62.703125 7.8125 59.421875 \nL 7.8125 69.390625 \nQ 13.765625 71.78125 18.9375 73 \nQ 24.125 74.21875 28.421875 74.21875 \nQ 39.75 74.21875 46.484375 68.546875 \nQ 53.21875 62.890625 53.21875 53.421875 \nQ 53.21875 48.921875 51.53125 44.890625 \nQ 49.859375 40.875 45.40625 35.40625 \nQ 44.1875 33.984375 37.640625 27.21875 \nQ 31.109375 20.453125 19.1875 8.296875 \nz\n\" id=\"DejaVuSans-50\"/>\n       <path d=\"M 10.796875 72.90625 \nL 49.515625 72.90625 \nL 49.515625 64.59375 \nL 19.828125 64.59375 \nL 19.828125 46.734375 \nQ 21.96875 47.46875 24.109375 47.828125 \nQ 26.265625 48.1875 28.421875 48.1875 \nQ 40.625 48.1875 47.75 41.5 \nQ 54.890625 34.8125 54.890625 23.390625 \nQ 54.890625 11.625 47.5625 5.09375 \nQ 40.234375 -1.421875 26.90625 -1.421875 \nQ 22.3125 -1.421875 17.546875 -0.640625 \nQ 12.796875 0.140625 7.71875 1.703125 \nL 7.71875 11.625 \nQ 12.109375 9.234375 16.796875 8.0625 \nQ 21.484375 6.890625 26.703125 6.890625 \nQ 35.15625 6.890625 40.078125 11.328125 \nQ 45.015625 15.765625 45.015625 23.390625 \nQ 45.015625 31 40.078125 35.4375 \nQ 35.15625 39.890625 26.703125 39.890625 \nQ 22.75 39.890625 18.8125 39.015625 \nQ 14.890625 38.140625 10.796875 36.28125 \nz\n\" id=\"DejaVuSans-53\"/>\n      </defs>\n      <g transform=\"translate(54.704865 62.417853)scale(0.1 -0.1)\">\n       <use xlink:href=\"#DejaVuSans-50\"/>\n       <use x=\"63.623047\" xlink:href=\"#DejaVuSans-53\"/>\n      </g>\n     </g>\n    </g>\n   </g>\n   <g id=\"matplotlib.axis_2\">\n    <g id=\"ytick_1\">\n     <g id=\"line2d_3\">\n      <defs>\n       <path d=\"M 0 0 \nL -3.5 0 \n\" id=\"m098d134da7\" style=\"stroke:#000000;stroke-width:0.8;\"/>\n      </defs>\n      <g>\n       <use style=\"stroke:#000000;stroke-width:0.8;\" x=\"26.925\" xlink:href=\"#m098d134da7\" y=\"10.999219\"/>\n      </g>\n     </g>\n     <g id=\"text_3\">\n      <!-- 0 -->\n      <g transform=\"translate(13.5625 14.798437)scale(0.1 -0.1)\">\n       <use xlink:href=\"#DejaVuSans-48\"/>\n      </g>\n     </g>\n    </g>\n    <g id=\"ytick_2\">\n     <g id=\"line2d_4\">\n      <g>\n       <use style=\"stroke:#000000;stroke-width:0.8;\" x=\"26.925\" xlink:href=\"#m098d134da7\" y=\"44.472125\"/>\n      </g>\n     </g>\n     <g id=\"text_4\">\n      <!-- 25 -->\n      <g transform=\"translate(7.2 48.271344)scale(0.1 -0.1)\">\n       <use xlink:href=\"#DejaVuSans-50\"/>\n       <use x=\"63.623047\" xlink:href=\"#DejaVuSans-53\"/>\n      </g>\n     </g>\n    </g>\n   </g>\n   <g id=\"patch_3\">\n    <path d=\"M 26.925 47.819416 \nL 26.925 10.329761 \n\" style=\"fill:none;stroke:#000000;stroke-linecap:square;stroke-linejoin:miter;stroke-width:0.8;\"/>\n   </g>\n   <g id=\"patch_4\">\n    <path d=\"M 64.414655 47.819416 \nL 64.414655 10.329761 \n\" style=\"fill:none;stroke:#000000;stroke-linecap:square;stroke-linejoin:miter;stroke-width:0.8;\"/>\n   </g>\n   <g id=\"patch_5\">\n    <path d=\"M 26.925 47.819416 \nL 64.414655 47.819416 \n\" style=\"fill:none;stroke:#000000;stroke-linecap:square;stroke-linejoin:miter;stroke-width:0.8;\"/>\n   </g>\n   <g id=\"patch_6\">\n    <path d=\"M 26.925 10.329761 \nL 64.414655 10.329761 \n\" style=\"fill:none;stroke:#000000;stroke-linecap:square;stroke-linejoin:miter;stroke-width:0.8;\"/>\n   </g>\n  </g>\n  <g id=\"axes_2\">\n   <g id=\"patch_7\">\n    <path d=\"M 96.193966 47.819416 \nL 133.683621 47.819416 \nL 133.683621 10.329761 \nL 96.193966 10.329761 \nz\n\" style=\"fill:#ffffff;\"/>\n   </g>\n   <g clip-path=\"url(#p5411b95d74)\">\n    <image height=\"38\" id=\"image7461d1878f\" transform=\"scale(1 -1)translate(0 -38)\" width=\"38\" x=\"96.193966\" xlink:href=\"data:image/png;base64,\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\" y=\"-9.819416\"/>\n   </g>\n   <g id=\"matplotlib.axis_3\">\n    <g id=\"xtick_3\">\n     <g id=\"line2d_5\">\n      <g>\n       <use style=\"stroke:#000000;stroke-width:0.8;\" x=\"96.863424\" xlink:href=\"#ma3ea6bd9c7\" y=\"47.819416\"/>\n      </g>\n     </g>\n     <g id=\"text_5\">\n      <!-- 0 -->\n      <g transform=\"translate(93.682174 62.417853)scale(0.1 -0.1)\">\n       <use xlink:href=\"#DejaVuSans-48\"/>\n      </g>\n     </g>\n    </g>\n    <g id=\"xtick_4\">\n     <g id=\"line2d_6\">\n      <g>\n       <use style=\"stroke:#000000;stroke-width:0.8;\" x=\"130.33633\" xlink:href=\"#ma3ea6bd9c7\" y=\"47.819416\"/>\n      </g>\n     </g>\n     <g id=\"text_6\">\n      <!-- 25 -->\n      <g transform=\"translate(123.97383 62.417853)scale(0.1 -0.1)\">\n       <use xlink:href=\"#DejaVuSans-50\"/>\n       <use x=\"63.623047\" xlink:href=\"#DejaVuSans-53\"/>\n      </g>\n     </g>\n    </g>\n   </g>\n   <g id=\"matplotlib.axis_4\">\n    <g id=\"ytick_3\">\n     <g id=\"line2d_7\">\n      <g>\n       <use style=\"stroke:#000000;stroke-width:0.8;\" x=\"96.193966\" xlink:href=\"#m098d134da7\" y=\"10.999219\"/>\n      </g>\n     </g>\n     <g id=\"text_7\">\n      <!-- 0 -->\n      <g transform=\"translate(82.831466 14.798437)scale(0.1 -0.1)\">\n       <use xlink:href=\"#DejaVuSans-48\"/>\n      </g>\n     </g>\n    </g>\n    <g id=\"ytick_4\">\n     <g id=\"line2d_8\">\n      <g>\n       <use style=\"stroke:#000000;stroke-width:0.8;\" x=\"96.193966\" xlink:href=\"#m098d134da7\" y=\"44.472125\"/>\n      </g>\n     </g>\n     <g id=\"text_8\">\n      <!-- 25 -->\n      <g transform=\"translate(76.468966 48.271344)scale(0.1 -0.1)\">\n       <use xlink:href=\"#DejaVuSans-50\"/>\n       <use x=\"63.623047\" xlink:href=\"#DejaVuSans-53\"/>\n      </g>\n     </g>\n    </g>\n   </g>\n   <g id=\"patch_8\">\n    <path d=\"M 96.193966 47.819416 \nL 96.193966 10.329761 \n\" style=\"fill:none;stroke:#000000;stroke-linecap:square;stroke-linejoin:miter;stroke-width:0.8;\"/>\n   </g>\n   <g id=\"patch_9\">\n    <path d=\"M 133.683621 47.819416 \nL 133.683621 10.329761 \n\" style=\"fill:none;stroke:#000000;stroke-linecap:square;stroke-linejoin:miter;stroke-width:0.8;\"/>\n   </g>\n   <g id=\"patch_10\">\n    <path d=\"M 96.193966 47.819416 \nL 133.683621 47.819416 \n\" style=\"fill:none;stroke:#000000;stroke-linecap:square;stroke-linejoin:miter;stroke-width:0.8;\"/>\n   </g>\n   <g id=\"patch_11\">\n    <path d=\"M 96.193966 10.329761 \nL 133.683621 10.329761 \n\" style=\"fill:none;stroke:#000000;stroke-linecap:square;stroke-linejoin:miter;stroke-width:0.8;\"/>\n   </g>\n  </g>\n  <g id=\"axes_3\">\n   <g id=\"patch_12\">\n    <path d=\"M 165.462931 47.819416 \nL 202.952586 47.819416 \nL 202.952586 10.329761 \nL 165.462931 10.329761 \nz\n\" style=\"fill:#ffffff;\"/>\n   </g>\n   <g clip-path=\"url(#p6be1f010aa)\">\n    <image height=\"38\" id=\"imageaadd924ab5\" transform=\"scale(1 -1)translate(0 -38)\" width=\"38\" x=\"165.462931\" xlink:href=\"data:image/png;base64,\niVBORw0KGgoAAAANSUhEUgAAACYAAAAmCAYAAACoPemuAAAABHNCSVQICAgIfAhkiAAABYZJREFUWIXNmM9vG8cVxz8zuyRXXFKkSFGkLVuyBDuRlcqKiyZqXaBFCyM/gOTUJoegaFGgPRToJf9AUaSXHHrqqZeiSHJIT/0Dgtp1ECcF3Nq1Ujd2bMm2JEsmZf0iV1qR3J2ZHFa0RFNF0MYW+z0t3u7MfOa9N7NvRpwVPzQ8KiF2n43BHhlm85ki86/A5Mk5JrP3OOksUbKrZOU2CsEDleaz+iBXakPMVvOUl/ro/zhG/lMPeXMeVau1D2HbUfdKgdkHoQ1sD5BMJjHjo8y9nKY+3KQ3v4XSEr/mgGcTq0nsTYEMQKqoTdgDQcqgegzaVWAZCCSyLnEqkvz1EHemBncW0L7/cOIPx94DaHeiSuyhQeqjBcpTCaxnqxSdBs3QYvNuhvQdiVvWuIvbxJY9hF8HpcCyUIUs9cNJ/H4b/1AM/5DG9AaIdICfstCxOH6+j/SRNE55C7lSxdQ8lOeBkGDUf/AYIB2Hyk9PE7xQ5e2JP/PLv/yYQ3+VZM/Poh486JjHl8nK5zBHSyx9N4t3ukF/oUbGqTMzW6LwsU3u3x786xam2Wzz4C6YtLAyvZTfGaCU9rh1f4Djb9cRi8uYLR/dDMBohGVhtAGjO3NDCBASIaOUMCrygLAsRCKBiMcRKRfVn2H5m714I6AcjQwE/Vcg948VzFIF7Xk7oZQW8msnmHmjD0dvMHtxmNI/NczcRDebbQnaGmy/hI1sejcirTZhGLXzfYTnIas1inqQ7KxL4FqoBBgJ2yN9JJIJrLtLEZg9eIiVyT6+9/2rnPvwWY6da2BduILe8UBb/PcD6oB7RK1+jMaEYbRCp2vEgITjIPuy+KeOoGMSlYpjJXuiUJbfPMP21CbHiyvwWgO1uhZ1BKBV50BfVULsnxI7dmHbSHNmku2pTTKpOs23SuiN6s7M9ZOBAjAGE4ZR/3u3C6JU0fU68v63XRwnYHUlTfzaQlvjrmhnXKmmajSbNrGF+P+0HTxWoD3OkD8b+4RmJUn/pzp6r7vkqUckzyRvYW9JkuXmrrVbYdwjecTeRjbB9hqRxejuEu1I5mQcoQSiEXSbpU3yngpQPYYw53abpU3y/NZTKMdQL8Qji5Dt9ViXJC9unEC7iq2iBfDwB9xtyb8vDOHmfbyRbqO0SyY/SmFJTXi4gbDt6Ffx/7BdlD5aZ7seoz/voZ9/JqrFheh6nklz4zbBmkPMUlSecxHxPYugq2CNBpkbNuUHGXKvLCKSPW1VaNfAAA6fWyV1uYdfDF/Af24Uu1iIcq2L4ZQIAUvLZGdD/lR+nvmXJfXxwehtF8MpERK1vk5yrsbVq6Oc+cbnrI0lsPK5rkFFYC3NzDP2+3VeyF2jOlVn4+xToNXuKj1gRce31rErZnPnV19n5FvzSGHg5wn03YXohCPkkyu199Gux4zGNBocOdfk1uIAx1JrzP6khMxmdqrLgy2HIrA9Za19/jLJ6R6ubxR57dWLhE8fxWrBHWBI9112R/9wHf27IqeTc5i3Vqm8Pk5rAsK2QVpPHMwaFeO/brNIC4ImTjXgg/vf4cWzl2k8HfLZxCn6P1zBBNFVAUJE3z6hLaUTDKJzXzMgtQ4fHDtJOlNnZLjC7ewErsgT0xa6Vnt4uj44MCFAG/TaOgO308wUS/zg1CV+NHWB98Mp4ipFTzVExGOIVmGpHy9gxzVUB6AxSNeFE8Ms/ybkjxPv4gjFBf8Ev50+S2w6Re5zRe+le4T3Fg8IrAUnJNJNoiZGqUy51MYCJsfmealwDV8nuL1d4NLyEPZ7efr+tkg4t9BxQ/jfqvNGcT8Zjd7cRHwyzeDqcdILeW5URrk5XmCgdxMhDEFoYT3G3eTLPQZtF3ImDNvs9rEhdMZFJWPEltbRyyu796tfQV8Au19t9+RLk3wAAAAASUVORK5CYII=\" y=\"-9.819416\"/>\n   </g>\n   <g id=\"matplotlib.axis_5\">\n    <g id=\"xtick_5\">\n     <g id=\"line2d_9\">\n      <g>\n       <use style=\"stroke:#000000;stroke-width:0.8;\" x=\"166.132389\" xlink:href=\"#ma3ea6bd9c7\" y=\"47.819416\"/>\n      </g>\n     </g>\n     <g id=\"text_9\">\n      <!-- 0 -->\n      <g transform=\"translate(162.951139 62.417853)scale(0.1 -0.1)\">\n       <use xlink:href=\"#DejaVuSans-48\"/>\n      </g>\n     </g>\n    </g>\n    <g id=\"xtick_6\">\n     <g id=\"line2d_10\">\n      <g>\n       <use style=\"stroke:#000000;stroke-width:0.8;\" x=\"199.605296\" xlink:href=\"#ma3ea6bd9c7\" y=\"47.819416\"/>\n      </g>\n     </g>\n     <g id=\"text_10\">\n      <!-- 25 -->\n      <g transform=\"translate(193.242796 62.417853)scale(0.1 -0.1)\">\n       <use xlink:href=\"#DejaVuSans-50\"/>\n       <use x=\"63.623047\" xlink:href=\"#DejaVuSans-53\"/>\n      </g>\n     </g>\n    </g>\n   </g>\n   <g id=\"matplotlib.axis_6\">\n    <g id=\"ytick_5\">\n     <g id=\"line2d_11\">\n      <g>\n       <use style=\"stroke:#000000;stroke-width:0.8;\" x=\"165.462931\" xlink:href=\"#m098d134da7\" y=\"10.999219\"/>\n      </g>\n     </g>\n     <g id=\"text_11\">\n      <!-- 0 -->\n      <g transform=\"translate(152.100431 14.798437)scale(0.1 -0.1)\">\n       <use xlink:href=\"#DejaVuSans-48\"/>\n      </g>\n     </g>\n    </g>\n    <g id=\"ytick_6\">\n     <g id=\"line2d_12\">\n      <g>\n       <use style=\"stroke:#000000;stroke-width:0.8;\" x=\"165.462931\" xlink:href=\"#m098d134da7\" y=\"44.472125\"/>\n      </g>\n     </g>\n     <g id=\"text_12\">\n      <!-- 25 -->\n      <g transform=\"translate(145.737931 48.271344)scale(0.1 -0.1)\">\n       <use xlink:href=\"#DejaVuSans-50\"/>\n       <use x=\"63.623047\" xlink:href=\"#DejaVuSans-53\"/>\n      </g>\n     </g>\n    </g>\n   </g>\n   <g id=\"patch_13\">\n    <path d=\"M 165.462931 47.819416 \nL 165.462931 10.329761 \n\" style=\"fill:none;stroke:#000000;stroke-linecap:square;stroke-linejoin:miter;stroke-width:0.8;\"/>\n   </g>\n   <g id=\"patch_14\">\n    <path d=\"M 202.952586 47.819416 \nL 202.952586 10.329761 \n\" style=\"fill:none;stroke:#000000;stroke-linecap:square;stroke-linejoin:miter;stroke-width:0.8;\"/>\n   </g>\n   <g id=\"patch_15\">\n    <path d=\"M 165.462931 47.819416 \nL 202.952586 47.819416 \n\" style=\"fill:none;stroke:#000000;stroke-linecap:square;stroke-linejoin:miter;stroke-width:0.8;\"/>\n   </g>\n   <g id=\"patch_16\">\n    <path d=\"M 165.462931 10.329761 \nL 202.952586 10.329761 \n\" style=\"fill:none;stroke:#000000;stroke-linecap:square;stroke-linejoin:miter;stroke-width:0.8;\"/>\n   </g>\n  </g>\n  <g id=\"axes_4\">\n   <g id=\"patch_17\">\n    <path d=\"M 234.731897 47.819416 \nL 272.221552 47.819416 \nL 272.221552 10.329761 \nL 234.731897 10.329761 \nz\n\" style=\"fill:#ffffff;\"/>\n   </g>\n   <g clip-path=\"url(#p387b20d3ea)\">\n    <image height=\"38\" id=\"image9ef9929c07\" transform=\"scale(1 -1)translate(0 -38)\" width=\"38\" x=\"234.731897\" xlink:href=\"data:image/png;base64,\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\" y=\"-9.819416\"/>\n   </g>\n   <g id=\"matplotlib.axis_7\">\n    <g id=\"xtick_7\">\n     <g id=\"line2d_13\">\n      <g>\n       <use style=\"stroke:#000000;stroke-width:0.8;\" x=\"235.401355\" xlink:href=\"#ma3ea6bd9c7\" y=\"47.819416\"/>\n      </g>\n     </g>\n     <g id=\"text_13\">\n      <!-- 0 -->\n      <g transform=\"translate(232.220105 62.417853)scale(0.1 -0.1)\">\n       <use xlink:href=\"#DejaVuSans-48\"/>\n      </g>\n     </g>\n    </g>\n    <g id=\"xtick_8\">\n     <g id=\"line2d_14\">\n      <g>\n       <use style=\"stroke:#000000;stroke-width:0.8;\" x=\"268.874261\" xlink:href=\"#ma3ea6bd9c7\" y=\"47.819416\"/>\n      </g>\n     </g>\n     <g id=\"text_14\">\n      <!-- 25 -->\n      <g transform=\"translate(262.511761 62.417853)scale(0.1 -0.1)\">\n       <use xlink:href=\"#DejaVuSans-50\"/>\n       <use x=\"63.623047\" xlink:href=\"#DejaVuSans-53\"/>\n      </g>\n     </g>\n    </g>\n   </g>\n   <g id=\"matplotlib.axis_8\">\n    <g id=\"ytick_7\">\n     <g id=\"line2d_15\">\n      <g>\n       <use style=\"stroke:#000000;stroke-width:0.8;\" x=\"234.731897\" xlink:href=\"#m098d134da7\" y=\"10.999219\"/>\n      </g>\n     </g>\n     <g id=\"text_15\">\n      <!-- 0 -->\n      <g transform=\"translate(221.369397 14.798437)scale(0.1 -0.1)\">\n       <use xlink:href=\"#DejaVuSans-48\"/>\n      </g>\n     </g>\n    </g>\n    <g id=\"ytick_8\">\n     <g id=\"line2d_16\">\n      <g>\n       <use style=\"stroke:#000000;stroke-width:0.8;\" x=\"234.731897\" xlink:href=\"#m098d134da7\" y=\"44.472125\"/>\n      </g>\n     </g>\n     <g id=\"text_16\">\n      <!-- 25 -->\n      <g transform=\"translate(215.006897 48.271344)scale(0.1 -0.1)\">\n       <use xlink:href=\"#DejaVuSans-50\"/>\n       <use x=\"63.623047\" xlink:href=\"#DejaVuSans-53\"/>\n      </g>\n     </g>\n    </g>\n   </g>\n   <g id=\"patch_18\">\n    <path d=\"M 234.731897 47.819416 \nL 234.731897 10.329761 \n\" style=\"fill:none;stroke:#000000;stroke-linecap:square;stroke-linejoin:miter;stroke-width:0.8;\"/>\n   </g>\n   <g id=\"patch_19\">\n    <path d=\"M 272.221552 47.819416 \nL 272.221552 10.329761 \n\" style=\"fill:none;stroke:#000000;stroke-linecap:square;stroke-linejoin:miter;stroke-width:0.8;\"/>\n   </g>\n   <g id=\"patch_20\">\n    <path d=\"M 234.731897 47.819416 \nL 272.221552 47.819416 \n\" style=\"fill:none;stroke:#000000;stroke-linecap:square;stroke-linejoin:miter;stroke-width:0.8;\"/>\n   </g>\n   <g id=\"patch_21\">\n    <path d=\"M 234.731897 10.329761 \nL 272.221552 10.329761 \n\" style=\"fill:none;stroke:#000000;stroke-linecap:square;stroke-linejoin:miter;stroke-width:0.8;\"/>\n   </g>\n  </g>\n  <g id=\"axes_5\">\n   <g id=\"patch_22\">\n    <path d=\"M 304.000862 47.819416 \nL 341.490517 47.819416 \nL 341.490517 10.329761 \nL 304.000862 10.329761 \nz\n\" style=\"fill:#ffffff;\"/>\n   </g>\n   <g clip-path=\"url(#p4aeb240c05)\">\n    <image height=\"38\" id=\"image6c501f0ead\" transform=\"scale(1 -1)translate(0 -38)\" width=\"38\" x=\"304.000862\" xlink:href=\"data:image/png;base64,\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\" y=\"-9.819416\"/>\n   </g>\n   <g id=\"matplotlib.axis_9\">\n    <g id=\"xtick_9\">\n     <g id=\"line2d_17\">\n      <g>\n       <use style=\"stroke:#000000;stroke-width:0.8;\" x=\"304.67032\" xlink:href=\"#ma3ea6bd9c7\" y=\"47.819416\"/>\n      </g>\n     </g>\n     <g id=\"text_17\">\n      <!-- 0 -->\n      <g transform=\"translate(301.48907 62.417853)scale(0.1 -0.1)\">\n       <use xlink:href=\"#DejaVuSans-48\"/>\n      </g>\n     </g>\n    </g>\n    <g id=\"xtick_10\">\n     <g id=\"line2d_18\">\n      <g>\n       <use style=\"stroke:#000000;stroke-width:0.8;\" x=\"338.143227\" xlink:href=\"#ma3ea6bd9c7\" y=\"47.819416\"/>\n      </g>\n     </g>\n     <g id=\"text_18\">\n      <!-- 25 -->\n      <g transform=\"translate(331.780727 62.417853)scale(0.1 -0.1)\">\n       <use xlink:href=\"#DejaVuSans-50\"/>\n       <use x=\"63.623047\" xlink:href=\"#DejaVuSans-53\"/>\n      </g>\n     </g>\n    </g>\n   </g>\n   <g id=\"matplotlib.axis_10\">\n    <g id=\"ytick_9\">\n     <g id=\"line2d_19\">\n      <g>\n       <use style=\"stroke:#000000;stroke-width:0.8;\" x=\"304.000862\" xlink:href=\"#m098d134da7\" y=\"10.999219\"/>\n      </g>\n     </g>\n     <g id=\"text_19\">\n      <!-- 0 -->\n      <g transform=\"translate(290.638362 14.798437)scale(0.1 -0.1)\">\n       <use xlink:href=\"#DejaVuSans-48\"/>\n      </g>\n     </g>\n    </g>\n    <g id=\"ytick_10\">\n     <g id=\"line2d_20\">\n      <g>\n       <use style=\"stroke:#000000;stroke-width:0.8;\" x=\"304.000862\" xlink:href=\"#m098d134da7\" y=\"44.472125\"/>\n      </g>\n     </g>\n     <g id=\"text_20\">\n      <!-- 25 -->\n      <g transform=\"translate(284.275862 48.271344)scale(0.1 -0.1)\">\n       <use xlink:href=\"#DejaVuSans-50\"/>\n       <use x=\"63.623047\" xlink:href=\"#DejaVuSans-53\"/>\n      </g>\n     </g>\n    </g>\n   </g>\n   <g id=\"patch_23\">\n    <path d=\"M 304.000862 47.819416 \nL 304.000862 10.329761 \n\" style=\"fill:none;stroke:#000000;stroke-linecap:square;stroke-linejoin:miter;stroke-width:0.8;\"/>\n   </g>\n   <g id=\"patch_24\">\n    <path d=\"M 341.490517 47.819416 \nL 341.490517 10.329761 \n\" style=\"fill:none;stroke:#000000;stroke-linecap:square;stroke-linejoin:miter;stroke-width:0.8;\"/>\n   </g>\n   <g id=\"patch_25\">\n    <path d=\"M 304.000862 47.819416 \nL 341.490517 47.819416 \n\" style=\"fill:none;stroke:#000000;stroke-linecap:square;stroke-linejoin:miter;stroke-width:0.8;\"/>\n   </g>\n   <g id=\"patch_26\">\n    <path d=\"M 304.000862 10.329761 \nL 341.490517 10.329761 \n\" style=\"fill:none;stroke:#000000;stroke-linecap:square;stroke-linejoin:miter;stroke-width:0.8;\"/>\n   </g>\n  </g>\n  <g id=\"axes_6\">\n   <g id=\"patch_27\">\n    <path d=\"M 26.925 92.807002 \nL 64.414655 92.807002 \nL 64.414655 55.317347 \nL 26.925 55.317347 \nz\n\" style=\"fill:#ffffff;\"/>\n   </g>\n   <g clip-path=\"url(#p3e7de68db0)\">\n    <image height=\"38\" id=\"image6696911a24\" transform=\"scale(1 -1)translate(0 -38)\" width=\"38\" x=\"26.925\" xlink:href=\"data:image/png;base64,\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\" y=\"-54.807002\"/>\n   </g>\n   <g id=\"matplotlib.axis_11\">\n    <g id=\"xtick_11\">\n     <g id=\"line2d_21\">\n      <g>\n       <use style=\"stroke:#000000;stroke-width:0.8;\" x=\"27.594458\" xlink:href=\"#ma3ea6bd9c7\" y=\"92.807002\"/>\n      </g>\n     </g>\n     <g id=\"text_21\">\n      <!-- 0 -->\n      <g transform=\"translate(24.413208 107.40544)scale(0.1 -0.1)\">\n       <use xlink:href=\"#DejaVuSans-48\"/>\n      </g>\n     </g>\n    </g>\n    <g id=\"xtick_12\">\n     <g id=\"line2d_22\">\n      <g>\n       <use style=\"stroke:#000000;stroke-width:0.8;\" x=\"61.067365\" xlink:href=\"#ma3ea6bd9c7\" y=\"92.807002\"/>\n      </g>\n     </g>\n     <g id=\"text_22\">\n      <!-- 25 -->\n      <g transform=\"translate(54.704865 107.40544)scale(0.1 -0.1)\">\n       <use xlink:href=\"#DejaVuSans-50\"/>\n       <use x=\"63.623047\" xlink:href=\"#DejaVuSans-53\"/>\n      </g>\n     </g>\n    </g>\n   </g>\n   <g id=\"matplotlib.axis_12\">\n    <g id=\"ytick_11\">\n     <g id=\"line2d_23\">\n      <g>\n       <use style=\"stroke:#000000;stroke-width:0.8;\" x=\"26.925\" xlink:href=\"#m098d134da7\" y=\"55.986805\"/>\n      </g>\n     </g>\n     <g id=\"text_23\">\n      <!-- 0 -->\n      <g transform=\"translate(13.5625 59.786024)scale(0.1 -0.1)\">\n       <use xlink:href=\"#DejaVuSans-48\"/>\n      </g>\n     </g>\n    </g>\n    <g id=\"ytick_12\">\n     <g id=\"line2d_24\">\n      <g>\n       <use style=\"stroke:#000000;stroke-width:0.8;\" x=\"26.925\" xlink:href=\"#m098d134da7\" y=\"89.459711\"/>\n      </g>\n     </g>\n     <g id=\"text_24\">\n      <!-- 25 -->\n      <g transform=\"translate(7.2 93.25893)scale(0.1 -0.1)\">\n       <use xlink:href=\"#DejaVuSans-50\"/>\n       <use x=\"63.623047\" xlink:href=\"#DejaVuSans-53\"/>\n      </g>\n     </g>\n    </g>\n   </g>\n   <g id=\"patch_28\">\n    <path d=\"M 26.925 92.807002 \nL 26.925 55.317347 \n\" style=\"fill:none;stroke:#000000;stroke-linecap:square;stroke-linejoin:miter;stroke-width:0.8;\"/>\n   </g>\n   <g id=\"patch_29\">\n    <path d=\"M 64.414655 92.807002 \nL 64.414655 55.317347 \n\" style=\"fill:none;stroke:#000000;stroke-linecap:square;stroke-linejoin:miter;stroke-width:0.8;\"/>\n   </g>\n   <g id=\"patch_30\">\n    <path d=\"M 26.925 92.807002 \nL 64.414655 92.807002 \n\" style=\"fill:none;stroke:#000000;stroke-linecap:square;stroke-linejoin:miter;stroke-width:0.8;\"/>\n   </g>\n   <g id=\"patch_31\">\n    <path d=\"M 26.925 55.317347 \nL 64.414655 55.317347 \n\" style=\"fill:none;stroke:#000000;stroke-linecap:square;stroke-linejoin:miter;stroke-width:0.8;\"/>\n   </g>\n  </g>\n  <g id=\"axes_7\">\n   <g id=\"patch_32\">\n    <path d=\"M 96.193966 92.807002 \nL 133.683621 92.807002 \nL 133.683621 55.317347 \nL 96.193966 55.317347 \nz\n\" style=\"fill:#ffffff;\"/>\n   </g>\n   <g clip-path=\"url(#pa34a603d2c)\">\n    <image height=\"38\" id=\"image5493381434\" transform=\"scale(1 -1)translate(0 -38)\" width=\"38\" x=\"96.193966\" xlink:href=\"data:image/png;base64,\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\" y=\"-54.807002\"/>\n   </g>\n   <g id=\"matplotlib.axis_13\">\n    <g id=\"xtick_13\">\n     <g id=\"line2d_25\">\n      <g>\n       <use style=\"stroke:#000000;stroke-width:0.8;\" x=\"96.863424\" xlink:href=\"#ma3ea6bd9c7\" y=\"92.807002\"/>\n      </g>\n     </g>\n     <g id=\"text_25\">\n      <!-- 0 -->\n      <g transform=\"translate(93.682174 107.40544)scale(0.1 -0.1)\">\n       <use xlink:href=\"#DejaVuSans-48\"/>\n      </g>\n     </g>\n    </g>\n    <g id=\"xtick_14\">\n     <g id=\"line2d_26\">\n      <g>\n       <use style=\"stroke:#000000;stroke-width:0.8;\" x=\"130.33633\" xlink:href=\"#ma3ea6bd9c7\" y=\"92.807002\"/>\n      </g>\n     </g>\n     <g id=\"text_26\">\n      <!-- 25 -->\n      <g transform=\"translate(123.97383 107.40544)scale(0.1 -0.1)\">\n       <use xlink:href=\"#DejaVuSans-50\"/>\n       <use x=\"63.623047\" xlink:href=\"#DejaVuSans-53\"/>\n      </g>\n     </g>\n    </g>\n   </g>\n   <g id=\"matplotlib.axis_14\">\n    <g id=\"ytick_13\">\n     <g id=\"line2d_27\">\n      <g>\n       <use style=\"stroke:#000000;stroke-width:0.8;\" x=\"96.193966\" xlink:href=\"#m098d134da7\" y=\"55.986805\"/>\n      </g>\n     </g>\n     <g id=\"text_27\">\n      <!-- 0 -->\n      <g transform=\"translate(82.831466 59.786024)scale(0.1 -0.1)\">\n       <use xlink:href=\"#DejaVuSans-48\"/>\n      </g>\n     </g>\n    </g>\n    <g id=\"ytick_14\">\n     <g id=\"line2d_28\">\n      <g>\n       <use style=\"stroke:#000000;stroke-width:0.8;\" x=\"96.193966\" xlink:href=\"#m098d134da7\" y=\"89.459711\"/>\n      </g>\n     </g>\n     <g id=\"text_28\">\n      <!-- 25 -->\n      <g transform=\"translate(76.468966 93.25893)scale(0.1 -0.1)\">\n       <use xlink:href=\"#DejaVuSans-50\"/>\n       <use x=\"63.623047\" xlink:href=\"#DejaVuSans-53\"/>\n      </g>\n     </g>\n    </g>\n   </g>\n   <g id=\"patch_33\">\n    <path d=\"M 96.193966 92.807002 \nL 96.193966 55.317347 \n\" style=\"fill:none;stroke:#000000;stroke-linecap:square;stroke-linejoin:miter;stroke-width:0.8;\"/>\n   </g>\n   <g id=\"patch_34\">\n    <path d=\"M 133.683621 92.807002 \nL 133.683621 55.317347 \n\" style=\"fill:none;stroke:#000000;stroke-linecap:square;stroke-linejoin:miter;stroke-width:0.8;\"/>\n   </g>\n   <g id=\"patch_35\">\n    <path d=\"M 96.193966 92.807002 \nL 133.683621 92.807002 \n\" style=\"fill:none;stroke:#000000;stroke-linecap:square;stroke-linejoin:miter;stroke-width:0.8;\"/>\n   </g>\n   <g id=\"patch_36\">\n    <path d=\"M 96.193966 55.317347 \nL 133.683621 55.317347 \n\" style=\"fill:none;stroke:#000000;stroke-linecap:square;stroke-linejoin:miter;stroke-width:0.8;\"/>\n   </g>\n  </g>\n  <g id=\"axes_8\">\n   <g id=\"patch_37\">\n    <path d=\"M 165.462931 92.807002 \nL 202.952586 92.807002 \nL 202.952586 55.317347 \nL 165.462931 55.317347 \nz\n\" style=\"fill:#ffffff;\"/>\n   </g>\n   <g clip-path=\"url(#p296437805d)\">\n    <image height=\"38\" id=\"image473717bc4c\" transform=\"scale(1 -1)translate(0 -38)\" width=\"38\" x=\"165.462931\" xlink:href=\"data:image/png;base64,\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\" y=\"-54.807002\"/>\n   </g>\n   <g id=\"matplotlib.axis_15\">\n    <g id=\"xtick_15\">\n     <g id=\"line2d_29\">\n      <g>\n       <use style=\"stroke:#000000;stroke-width:0.8;\" x=\"166.132389\" xlink:href=\"#ma3ea6bd9c7\" y=\"92.807002\"/>\n      </g>\n     </g>\n     <g id=\"text_29\">\n      <!-- 0 -->\n      <g transform=\"translate(162.951139 107.40544)scale(0.1 -0.1)\">\n       <use xlink:href=\"#DejaVuSans-48\"/>\n      </g>\n     </g>\n    </g>\n    <g id=\"xtick_16\">\n     <g id=\"line2d_30\">\n      <g>\n       <use style=\"stroke:#000000;stroke-width:0.8;\" x=\"199.605296\" xlink:href=\"#ma3ea6bd9c7\" y=\"92.807002\"/>\n      </g>\n     </g>\n     <g id=\"text_30\">\n      <!-- 25 -->\n      <g transform=\"translate(193.242796 107.40544)scale(0.1 -0.1)\">\n       <use xlink:href=\"#DejaVuSans-50\"/>\n       <use x=\"63.623047\" xlink:href=\"#DejaVuSans-53\"/>\n      </g>\n     </g>\n    </g>\n   </g>\n   <g id=\"matplotlib.axis_16\">\n    <g id=\"ytick_15\">\n     <g id=\"line2d_31\">\n      <g>\n       <use style=\"stroke:#000000;stroke-width:0.8;\" x=\"165.462931\" xlink:href=\"#m098d134da7\" y=\"55.986805\"/>\n      </g>\n     </g>\n     <g id=\"text_31\">\n      <!-- 0 -->\n      <g transform=\"translate(152.100431 59.786024)scale(0.1 -0.1)\">\n       <use xlink:href=\"#DejaVuSans-48\"/>\n      </g>\n     </g>\n    </g>\n    <g id=\"ytick_16\">\n     <g id=\"line2d_32\">\n      <g>\n       <use style=\"stroke:#000000;stroke-width:0.8;\" x=\"165.462931\" xlink:href=\"#m098d134da7\" y=\"89.459711\"/>\n      </g>\n     </g>\n     <g id=\"text_32\">\n      <!-- 25 -->\n      <g transform=\"translate(145.737931 93.25893)scale(0.1 -0.1)\">\n       <use xlink:href=\"#DejaVuSans-50\"/>\n       <use x=\"63.623047\" xlink:href=\"#DejaVuSans-53\"/>\n      </g>\n     </g>\n    </g>\n   </g>\n   <g id=\"patch_38\">\n    <path d=\"M 165.462931 92.807002 \nL 165.462931 55.317347 \n\" style=\"fill:none;stroke:#000000;stroke-linecap:square;stroke-linejoin:miter;stroke-width:0.8;\"/>\n   </g>\n   <g id=\"patch_39\">\n    <path d=\"M 202.952586 92.807002 \nL 202.952586 55.317347 \n\" style=\"fill:none;stroke:#000000;stroke-linecap:square;stroke-linejoin:miter;stroke-width:0.8;\"/>\n   </g>\n   <g id=\"patch_40\">\n    <path d=\"M 165.462931 92.807002 \nL 202.952586 92.807002 \n\" style=\"fill:none;stroke:#000000;stroke-linecap:square;stroke-linejoin:miter;stroke-width:0.8;\"/>\n   </g>\n   <g id=\"patch_41\">\n    <path d=\"M 165.462931 55.317347 \nL 202.952586 55.317347 \n\" style=\"fill:none;stroke:#000000;stroke-linecap:square;stroke-linejoin:miter;stroke-width:0.8;\"/>\n   </g>\n  </g>\n  <g id=\"axes_9\">\n   <g id=\"patch_42\">\n    <path d=\"M 234.731897 92.807002 \nL 272.221552 92.807002 \nL 272.221552 55.317347 \nL 234.731897 55.317347 \nz\n\" style=\"fill:#ffffff;\"/>\n   </g>\n   <g clip-path=\"url(#pd933d16422)\">\n    <image height=\"38\" id=\"imagede6fb9c0ee\" transform=\"scale(1 -1)translate(0 -38)\" width=\"38\" x=\"234.731897\" xlink:href=\"data:image/png;base64,\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\" y=\"-54.807002\"/>\n   </g>\n   <g id=\"matplotlib.axis_17\">\n    <g id=\"xtick_17\">\n     <g id=\"line2d_33\">\n      <g>\n       <use style=\"stroke:#000000;stroke-width:0.8;\" x=\"235.401355\" xlink:href=\"#ma3ea6bd9c7\" y=\"92.807002\"/>\n      </g>\n     </g>\n     <g id=\"text_33\">\n      <!-- 0 -->\n      <g transform=\"translate(232.220105 107.40544)scale(0.1 -0.1)\">\n       <use xlink:href=\"#DejaVuSans-48\"/>\n      </g>\n     </g>\n    </g>\n    <g id=\"xtick_18\">\n     <g id=\"line2d_34\">\n      <g>\n       <use style=\"stroke:#000000;stroke-width:0.8;\" x=\"268.874261\" xlink:href=\"#ma3ea6bd9c7\" y=\"92.807002\"/>\n      </g>\n     </g>\n     <g id=\"text_34\">\n      <!-- 25 -->\n      <g transform=\"translate(262.511761 107.40544)scale(0.1 -0.1)\">\n       <use xlink:href=\"#DejaVuSans-50\"/>\n       <use x=\"63.623047\" xlink:href=\"#DejaVuSans-53\"/>\n      </g>\n     </g>\n    </g>\n   </g>\n   <g id=\"matplotlib.axis_18\">\n    <g id=\"ytick_17\">\n     <g id=\"line2d_35\">\n      <g>\n       <use style=\"stroke:#000000;stroke-width:0.8;\" x=\"234.731897\" xlink:href=\"#m098d134da7\" y=\"55.986805\"/>\n      </g>\n     </g>\n     <g id=\"text_35\">\n      <!-- 0 -->\n      <g transform=\"translate(221.369397 59.786024)scale(0.1 -0.1)\">\n       <use xlink:href=\"#DejaVuSans-48\"/>\n      </g>\n     </g>\n    </g>\n    <g id=\"ytick_18\">\n     <g id=\"line2d_36\">\n      <g>\n       <use style=\"stroke:#000000;stroke-width:0.8;\" x=\"234.731897\" xlink:href=\"#m098d134da7\" y=\"89.459711\"/>\n      </g>\n     </g>\n     <g id=\"text_36\">\n      <!-- 25 -->\n      <g transform=\"translate(215.006897 93.25893)scale(0.1 -0.1)\">\n       <use xlink:href=\"#DejaVuSans-50\"/>\n       <use x=\"63.623047\" xlink:href=\"#DejaVuSans-53\"/>\n      </g>\n     </g>\n    </g>\n   </g>\n   <g id=\"patch_43\">\n    <path d=\"M 234.731897 92.807002 \nL 234.731897 55.317347 \n\" style=\"fill:none;stroke:#000000;stroke-linecap:square;stroke-linejoin:miter;stroke-width:0.8;\"/>\n   </g>\n   <g id=\"patch_44\">\n    <path d=\"M 272.221552 92.807002 \nL 272.221552 55.317347 \n\" style=\"fill:none;stroke:#000000;stroke-linecap:square;stroke-linejoin:miter;stroke-width:0.8;\"/>\n   </g>\n   <g id=\"patch_45\">\n    <path d=\"M 234.731897 92.807002 \nL 272.221552 92.807002 \n\" style=\"fill:none;stroke:#000000;stroke-linecap:square;stroke-linejoin:miter;stroke-width:0.8;\"/>\n   </g>\n   <g id=\"patch_46\">\n    <path d=\"M 234.731897 55.317347 \nL 272.221552 55.317347 \n\" style=\"fill:none;stroke:#000000;stroke-linecap:square;stroke-linejoin:miter;stroke-width:0.8;\"/>\n   </g>\n  </g>\n  <g id=\"axes_10\">\n   <g id=\"patch_47\">\n    <path d=\"M 304.000862 92.807002 \nL 341.490517 92.807002 \nL 341.490517 55.317347 \nL 304.000862 55.317347 \nz\n\" style=\"fill:#ffffff;\"/>\n   </g>\n   <g clip-path=\"url(#p200449d80f)\">\n    <image height=\"38\" id=\"image57beeb1c57\" transform=\"scale(1 -1)translate(0 -38)\" width=\"38\" x=\"304.000862\" xlink:href=\"data:image/png;base64,\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\" y=\"-54.807002\"/>\n   </g>\n   <g id=\"matplotlib.axis_19\">\n    <g id=\"xtick_19\">\n     <g id=\"line2d_37\">\n      <g>\n       <use style=\"stroke:#000000;stroke-width:0.8;\" x=\"304.67032\" xlink:href=\"#ma3ea6bd9c7\" y=\"92.807002\"/>\n      </g>\n     </g>\n     <g id=\"text_37\">\n      <!-- 0 -->\n      <g transform=\"translate(301.48907 107.40544)scale(0.1 -0.1)\">\n       <use xlink:href=\"#DejaVuSans-48\"/>\n      </g>\n     </g>\n    </g>\n    <g id=\"xtick_20\">\n     <g id=\"line2d_38\">\n      <g>\n       <use style=\"stroke:#000000;stroke-width:0.8;\" x=\"338.143227\" xlink:href=\"#ma3ea6bd9c7\" y=\"92.807002\"/>\n      </g>\n     </g>\n     <g id=\"text_38\">\n      <!-- 25 -->\n      <g transform=\"translate(331.780727 107.40544)scale(0.1 -0.1)\">\n       <use xlink:href=\"#DejaVuSans-50\"/>\n       <use x=\"63.623047\" xlink:href=\"#DejaVuSans-53\"/>\n      </g>\n     </g>\n    </g>\n   </g>\n   <g id=\"matplotlib.axis_20\">\n    <g id=\"ytick_19\">\n     <g id=\"line2d_39\">\n      <g>\n       <use style=\"stroke:#000000;stroke-width:0.8;\" x=\"304.000862\" xlink:href=\"#m098d134da7\" y=\"55.986805\"/>\n      </g>\n     </g>\n     <g id=\"text_39\">\n      <!-- 0 -->\n      <g transform=\"translate(290.638362 59.786024)scale(0.1 -0.1)\">\n       <use xlink:href=\"#DejaVuSans-48\"/>\n      </g>\n     </g>\n    </g>\n    <g id=\"ytick_20\">\n     <g id=\"line2d_40\">\n      <g>\n       <use style=\"stroke:#000000;stroke-width:0.8;\" x=\"304.000862\" xlink:href=\"#m098d134da7\" y=\"89.459711\"/>\n      </g>\n     </g>\n     <g id=\"text_40\">\n      <!-- 25 -->\n      <g transform=\"translate(284.275862 93.25893)scale(0.1 -0.1)\">\n       <use xlink:href=\"#DejaVuSans-50\"/>\n       <use x=\"63.623047\" xlink:href=\"#DejaVuSans-53\"/>\n      </g>\n     </g>\n    </g>\n   </g>\n   <g id=\"patch_48\">\n    <path d=\"M 304.000862 92.807002 \nL 304.000862 55.317347 \n\" style=\"fill:none;stroke:#000000;stroke-linecap:square;stroke-linejoin:miter;stroke-width:0.8;\"/>\n   </g>\n   <g id=\"patch_49\">\n    <path d=\"M 341.490517 92.807002 \nL 341.490517 55.317347 \n\" style=\"fill:none;stroke:#000000;stroke-linecap:square;stroke-linejoin:miter;stroke-width:0.8;\"/>\n   </g>\n   <g id=\"patch_50\">\n    <path d=\"M 304.000862 92.807002 \nL 341.490517 92.807002 \n\" style=\"fill:none;stroke:#000000;stroke-linecap:square;stroke-linejoin:miter;stroke-width:0.8;\"/>\n   </g>\n   <g id=\"patch_51\">\n    <path d=\"M 304.000862 55.317347 \nL 341.490517 55.317347 \n\" style=\"fill:none;stroke:#000000;stroke-linecap:square;stroke-linejoin:miter;stroke-width:0.8;\"/>\n   </g>\n  </g>\n </g>\n <defs>\n  <clipPath id=\"pf64d653716\">\n   <rect height=\"37.489655\" width=\"37.489655\" x=\"26.925\" y=\"10.329761\"/>\n  </clipPath>\n  <clipPath id=\"p5411b95d74\">\n   <rect height=\"37.489655\" width=\"37.489655\" x=\"96.193966\" y=\"10.329761\"/>\n  </clipPath>\n  <clipPath id=\"p6be1f010aa\">\n   <rect height=\"37.489655\" width=\"37.489655\" x=\"165.462931\" y=\"10.329761\"/>\n  </clipPath>\n  <clipPath id=\"p387b20d3ea\">\n   <rect height=\"37.489655\" width=\"37.489655\" x=\"234.731897\" y=\"10.329761\"/>\n  </clipPath>\n  <clipPath id=\"p4aeb240c05\">\n   <rect height=\"37.489655\" width=\"37.489655\" x=\"304.000862\" y=\"10.329761\"/>\n  </clipPath>\n  <clipPath id=\"p3e7de68db0\">\n   <rect height=\"37.489655\" width=\"37.489655\" x=\"26.925\" y=\"55.317347\"/>\n  </clipPath>\n  <clipPath id=\"pa34a603d2c\">\n   <rect height=\"37.489655\" width=\"37.489655\" x=\"96.193966\" y=\"55.317347\"/>\n  </clipPath>\n  <clipPath id=\"p296437805d\">\n   <rect height=\"37.489655\" width=\"37.489655\" x=\"165.462931\" y=\"55.317347\"/>\n  </clipPath>\n  <clipPath id=\"pd933d16422\">\n   <rect height=\"37.489655\" width=\"37.489655\" x=\"234.731897\" y=\"55.317347\"/>\n  </clipPath>\n  <clipPath id=\"p200449d80f\">\n   <rect height=\"37.489655\" width=\"37.489655\" x=\"304.000862\" y=\"55.317347\"/>\n  </clipPath>\n </defs>\n</svg>\n",
      "image/png": "[encoded data removed]"
     },
     "metadata": {
      "needs_background": "light"
     }
    }
   ],
   "source": [
    "import pickle\n",
    "from IPython import display\n",
    "import matplotlib.cm as cm\n",
    "import matplotlib.pyplot as plt\n",
    "from PIL import Image\n",
    "import numpy as np\n",
    "\n",
    "\n",
    "for i, folder in enumerate(train_datasets):\n",
    "    with open(folder, 'rb') as f:\n",
    "        image = pickle.load(f)[0]\n",
    "        plt.subplot(5,5,i + 1)\n",
    "        plt.imshow(image)\n",
    "\n",
    "    \n"
   ]
  },
  {
   "cell_type": "markdown",
   "metadata": {},
   "source": [
    "---\n",
    "Problem 3\n",
    "---------\n",
    "Another check: we expect the data to be balanced across classes. Verify that.\n",
    "\n",
    "---"
   ]
  },
  {
   "cell_type": "markdown",
   "metadata": {},
   "source": [
    "Merge and prune the training data as needed. Depending on your computer setup, you might not be able to fit it all in memory, and you can tune `train_size` as needed. The labels will be stored into a separate array of integers 0 through 9.\n",
    "\n",
    "Also create a validation dataset for hyperparameter tuning."
   ]
  },
  {
   "cell_type": "code",
   "execution_count": 59,
   "metadata": {},
   "outputs": [
    {
     "output_type": "stream",
     "name": "stdout",
     "text": "Training: (200000, 28, 28) (200000,)\nValidation: (10000, 28, 28) (10000,)\nTesting: (10000, 28, 28) (10000,)\nCounter({0: 20000, 1: 20000, 2: 20000, 3: 20000, 4: 20000, 5: 20000, 6: 20000, 7: 20000, 8: 20000, 9: 20000})\nCounter({0: 1000, 1: 1000, 2: 1000, 3: 1000, 4: 1000, 5: 1000, 6: 1000, 7: 1000, 8: 1000, 9: 1000})\nCounter({0: 1000, 1: 1000, 2: 1000, 3: 1000, 4: 1000, 5: 1000, 6: 1000, 7: 1000, 8: 1000, 9: 1000})\n"
    }
   ],
   "source": [
    "def make_arrays(nb_rows, img_size):\n",
    "  if nb_rows:\n",
    "    dataset = np.ndarray((nb_rows, img_size, img_size), dtype=np.float32)\n",
    "    labels = np.ndarray(nb_rows, dtype=np.int32)\n",
    "  else:\n",
    "    dataset, labels = None, None\n",
    "  return dataset, labels\n",
    "\n",
    "def merge_datasets(pickle_files, train_size, valid_size=0):\n",
    "  num_classes = len(pickle_files)\n",
    "  valid_dataset, valid_labels = make_arrays(valid_size, image_size)\n",
    "  train_dataset, train_labels = make_arrays(train_size, image_size)\n",
    "  vsize_per_class = valid_size // num_classes\n",
    "  tsize_per_class = train_size // num_classes\n",
    "    \n",
    "  start_v, start_t = 0, 0\n",
    "  end_v, end_t = vsize_per_class, tsize_per_class\n",
    "  end_l = vsize_per_class+tsize_per_class\n",
    "  for label, pickle_file in enumerate(pickle_files):       \n",
    "    try:\n",
    "      with open(pickle_file, 'rb') as f:\n",
    "        letter_set = pickle.load(f)\n",
    "        # let's shuffle the letters to have random validation and training set\n",
    "        np.random.shuffle(letter_set)\n",
    "        if valid_dataset is not None:\n",
    "          valid_letter = letter_set[:vsize_per_class, :, :]\n",
    "          valid_dataset[start_v:end_v, :, :] = valid_letter\n",
    "          valid_labels[start_v:end_v] = label\n",
    "          start_v += vsize_per_class\n",
    "          end_v += vsize_per_class\n",
    "                    \n",
    "        train_letter = letter_set[vsize_per_class:end_l, :, :]\n",
    "        train_dataset[start_t:end_t, :, :] = train_letter\n",
    "        train_labels[start_t:end_t] = label\n",
    "        start_t += tsize_per_class\n",
    "        end_t += tsize_per_class\n",
    "    except Exception as e:\n",
    "      print('Unable to process data from', pickle_file, ':', e)\n",
    "      raise\n",
    "    \n",
    "  return valid_dataset, valid_labels, train_dataset, train_labels\n",
    "            \n",
    "            \n",
    "train_size = 200000\n",
    "valid_size = 10000\n",
    "test_size = 10000\n",
    "\n",
    "valid_dataset, valid_labels, train_dataset, train_labels = merge_datasets(\n",
    "  train_datasets, train_size, valid_size)\n",
    "_, _, test_dataset, test_labels = merge_datasets(test_datasets, test_size)\n",
    "\n",
    "print('Training:', train_dataset.shape, train_labels.shape)\n",
    "print('Validation:', valid_dataset.shape, valid_labels.shape)\n",
    "print('Testing:', test_dataset.shape, test_labels.shape)\n",
    "\n",
    "\n",
    "from collections import Counter\n",
    "\n",
    "train_counter = Counter(train_labels)\n",
    "valid_counter = Counter(valid_labels)\n",
    "test_counter = Counter(test_labels)\n",
    "\n",
    "print(train_counter)\n",
    "print(valid_counter)\n",
    "print(test_counter)\n",
    "\n"
   ]
  },
  {
   "cell_type": "markdown",
   "metadata": {},
   "source": [
    "Next, we'll randomize the data. It's important to have the labels well shuffled for the training and test distributions to match."
   ]
  },
  {
   "cell_type": "code",
   "execution_count": 60,
   "metadata": {},
   "outputs": [],
   "source": [
    "def randomize(dataset, labels):\n",
    "  permutation = np.random.permutation(labels.shape[0])\n",
    "  shuffled_dataset = dataset[permutation,:,:]\n",
    "  shuffled_labels = labels[permutation]\n",
    "  return shuffled_dataset, shuffled_labels\n",
    "train_dataset, train_labels = randomize(train_dataset, train_labels)\n",
    "test_dataset, test_labels = randomize(test_dataset, test_labels)\n",
    "valid_dataset, valid_labels = randomize(valid_dataset, valid_labels)"
   ]
  },
  {
   "cell_type": "markdown",
   "metadata": {},
   "source": [
    "---\n",
    "Problem 4\n",
    "---------\n",
    "Convince yourself that the data is still good after shuffling!\n",
    "\n",
    "---"
   ]
  },
  {
   "cell_type": "markdown",
   "metadata": {},
   "source": [
    "Finally, let's save the data for later reuse:"
   ]
  },
  {
   "cell_type": "code",
   "execution_count": 61,
   "metadata": {},
   "outputs": [
    {
     "output_type": "stream",
     "name": "stdout",
     "text": "Counter({4: 20000, 9: 20000, 6: 20000, 2: 20000, 7: 20000, 3: 20000, 5: 20000, 0: 20000, 1: 20000, 8: 20000})\nCounter({1: 1000, 9: 1000, 3: 1000, 8: 1000, 7: 1000, 0: 1000, 4: 1000, 2: 1000, 6: 1000, 5: 1000})\nCounter({3: 1000, 6: 1000, 4: 1000, 7: 1000, 1: 1000, 0: 1000, 9: 1000, 2: 1000, 8: 1000, 5: 1000})\n"
    }
   ],
   "source": [
    "pickle_file = os.path.join(data_root, 'notMNIST.pickle')\n",
    "\n",
    "try:\n",
    "  f = open(pickle_file, 'wb')\n",
    "  save = {\n",
    "    'train_dataset': train_dataset,\n",
    "    'train_labels': train_labels,\n",
    "    'valid_dataset': valid_dataset,\n",
    "    'valid_labels': valid_labels,\n",
    "    'test_dataset': test_dataset,\n",
    "    'test_labels': test_labels,\n",
    "    }\n",
    "  pickle.dump(save, f, pickle.HIGHEST_PROTOCOL)\n",
    "  train_counter = Counter(train_labels)\n",
    "  valid_counter = Counter(valid_labels)\n",
    "  test_counter = Counter(test_labels)\n",
    "\n",
    "  print(train_counter) \n",
    "  print(valid_counter)\n",
    "  print(test_counter)\n",
    "\n",
    "  f.close()\n",
    "except Exception as e:\n",
    "  print('Unable to save data to', pickle_file, ':', e)\n",
    "  raise"
   ]
  },
  {
   "cell_type": "code",
   "execution_count": 62,
   "metadata": {},
   "outputs": [
    {
     "output_type": "stream",
     "name": "stdout",
     "text": "Compressed pickle size: 690800506\n"
    }
   ],
   "source": [
    "statinfo = os.stat(pickle_file)\n",
    "print('Compressed pickle size:', statinfo.st_size)"
   ]
  },
  {
   "cell_type": "markdown",
   "metadata": {},
   "source": [
    "---\n",
    "Problem 5\n",
    "---------\n",
    "\n",
    "By construction, this dataset might contain a lot of overlapping samples, including training data that's also contained in the validation and test set! Overlap between training and test can skew the results if you expect to use your model in an environment where there is never an overlap, but are actually ok if you expect to see training samples recur when you use it.\n",
    "Measure how much overlap there is between training, validation and test samples.\n",
    "\n",
    "Optional questions:\n",
    "- What about near duplicates between datasets? (images that are almost identical)\n",
    "- Create a sanitized validation and test set, and compare your accuracy on those in subsequent labs.\n",
    "---"
   ]
  },
  {
   "cell_type": "code",
   "execution_count": 44,
   "metadata": {},
   "outputs": [
    {
     "output_type": "error",
     "ename": "NameError",
     "evalue": "name 'train_dataset' is not defined",
     "traceback": [
      "\u001b[0;31m---------------------------------------------------------------------------\u001b[0m",
      "\u001b[0;31mNameError\u001b[0m                                 Traceback (most recent call last)",
      "\u001b[0;32m<ipython-input-44-f2de537d3b06>\u001b[0m in \u001b[0;36m<module>\u001b[0;34m\u001b[0m\n\u001b[1;32m      1\u001b[0m \u001b[0;32mimport\u001b[0m \u001b[0mhashlib\u001b[0m\u001b[0;34m\u001b[0m\u001b[0;34m\u001b[0m\u001b[0m\n\u001b[1;32m      2\u001b[0m \u001b[0;34m\u001b[0m\u001b[0m\n\u001b[0;32m----> 3\u001b[0;31m \u001b[0mtrain_hashes\u001b[0m \u001b[0;34m=\u001b[0m \u001b[0;34m[\u001b[0m\u001b[0mhashlib\u001b[0m\u001b[0;34m.\u001b[0m\u001b[0msha256\u001b[0m\u001b[0;34m(\u001b[0m\u001b[0mimage\u001b[0m\u001b[0;34m)\u001b[0m\u001b[0;34m.\u001b[0m\u001b[0mhexdigest\u001b[0m\u001b[0;34m(\u001b[0m\u001b[0;34m)\u001b[0m \u001b[0;32mfor\u001b[0m \u001b[0mimage\u001b[0m \u001b[0;32min\u001b[0m \u001b[0mtrain_dataset\u001b[0m\u001b[0;34m]\u001b[0m\u001b[0;34m\u001b[0m\u001b[0;34m\u001b[0m\u001b[0m\n\u001b[0m\u001b[1;32m      4\u001b[0m \u001b[0mvalid_hashes\u001b[0m \u001b[0;34m=\u001b[0m \u001b[0;34m[\u001b[0m\u001b[0mhashlib\u001b[0m\u001b[0;34m.\u001b[0m\u001b[0msha256\u001b[0m\u001b[0;34m(\u001b[0m\u001b[0mimage\u001b[0m\u001b[0;34m)\u001b[0m\u001b[0;34m.\u001b[0m\u001b[0mhexdigest\u001b[0m\u001b[0;34m(\u001b[0m\u001b[0;34m)\u001b[0m \u001b[0;32mfor\u001b[0m \u001b[0mimage\u001b[0m \u001b[0;32min\u001b[0m \u001b[0mvalid_dataset\u001b[0m\u001b[0;34m]\u001b[0m\u001b[0;34m\u001b[0m\u001b[0;34m\u001b[0m\u001b[0m\n\u001b[1;32m      5\u001b[0m \u001b[0mtest_hashes\u001b[0m \u001b[0;34m=\u001b[0m \u001b[0;34m[\u001b[0m\u001b[0mhashlib\u001b[0m\u001b[0;34m.\u001b[0m\u001b[0msha256\u001b[0m\u001b[0;34m(\u001b[0m\u001b[0mimage\u001b[0m\u001b[0;34m)\u001b[0m\u001b[0;34m.\u001b[0m\u001b[0mhexdigest\u001b[0m\u001b[0;34m(\u001b[0m\u001b[0;34m)\u001b[0m \u001b[0;32mfor\u001b[0m \u001b[0mimage\u001b[0m \u001b[0;32min\u001b[0m \u001b[0mtest_dataset\u001b[0m\u001b[0;34m]\u001b[0m\u001b[0;34m\u001b[0m\u001b[0;34m\u001b[0m\u001b[0m\n",
      "\u001b[0;31mNameError\u001b[0m: name 'train_dataset' is not defined"
     ]
    }
   ],
   "source": [
    "import hashlib\n",
    "\n",
    "train_hashes = [hashlib.sha256(image).hexdigest() for image in train_dataset]\n",
    "valid_hashes = [hashlib.sha256(image).hexdigest() for image in valid_dataset]\n",
    "test_hashes = [hashlib.sha256(image).hexdigest() for image in test_dataset]\n",
    "\n",
    "print(len(np.intersect1d(train_hashes, valid_hashes)), 'between train and validation')\n",
    "print(len(np.intersect1d(train_hashes, test_hashes)), 'between train and test')\n",
    "\n",
    " \n"
   ]
  },
  {
   "cell_type": "markdown",
   "metadata": {},
   "source": [
    "---\n",
    "Problem 6\n",
    "---------\n",
    "\n",
    "Let's get an idea of what an off-the-shelf classifier can give you on this data. It's always good to check that there is something to learn, and that it's a problem that is not so trivial that a canned solution solves it.\n",
    "\n",
    "The code below trains a LogisticRegression classifier from sklearn.linear_model on 50, 100, 1000 and 5000 training samples. Evaluate the performance of each created model instance on the test set and create a plot to visualize it. \n",
    "Hit: you can use plt.plot or plt.bar\n",
    "\n",
    "Optional question: train an off-the-shelf model on all the data!\n",
    "\n",
    "---"
   ]
  },
  {
   "cell_type": "code",
   "execution_count": 45,
   "metadata": {},
   "outputs": [
    {
     "output_type": "error",
     "ename": "NameError",
     "evalue": "name 'train_dataset' is not defined",
     "traceback": [
      "\u001b[0;31m---------------------------------------------------------------------------\u001b[0m",
      "\u001b[0;31mNameError\u001b[0m                                 Traceback (most recent call last)",
      "\u001b[0;32m<ipython-input-45-bb142b86244c>\u001b[0m in \u001b[0;36m<module>\u001b[0;34m\u001b[0m\n\u001b[1;32m      6\u001b[0m     )\n\u001b[1;32m      7\u001b[0m     model = model.fit(\n\u001b[0;32m----> 8\u001b[0;31m         \u001b[0;34m[\u001b[0m\u001b[0msample\u001b[0m\u001b[0;34m.\u001b[0m\u001b[0mreshape\u001b[0m\u001b[0;34m(\u001b[0m\u001b[0;34m-\u001b[0m\u001b[0;36m1\u001b[0m\u001b[0;34m)\u001b[0m \u001b[0;32mfor\u001b[0m \u001b[0msample\u001b[0m \u001b[0;32min\u001b[0m \u001b[0mtrain_dataset\u001b[0m\u001b[0;34m[\u001b[0m\u001b[0;34m:\u001b[0m\u001b[0mnum_training_samples\u001b[0m\u001b[0;34m]\u001b[0m\u001b[0;34m]\u001b[0m\u001b[0;34m,\u001b[0m\u001b[0;34m\u001b[0m\u001b[0;34m\u001b[0m\u001b[0m\n\u001b[0m\u001b[1;32m      9\u001b[0m         \u001b[0mtrain_labels\u001b[0m\u001b[0;34m[\u001b[0m\u001b[0;34m:\u001b[0m\u001b[0mnum_training_samples\u001b[0m\u001b[0;34m]\u001b[0m\u001b[0;34m\u001b[0m\u001b[0;34m\u001b[0m\u001b[0m\n\u001b[1;32m     10\u001b[0m     )\n",
      "\u001b[0;31mNameError\u001b[0m: name 'train_dataset' is not defined"
     ]
    }
   ],
   "source": [
    "NUM_TRAINING_SAMPLES = [50, 100, 1000, 5000]\n",
    "models = []\n",
    "for num_training_samples in NUM_TRAINING_SAMPLES:\n",
    "    model = LogisticRegression(\n",
    "        max_iter=1000, solver='liblinear', multi_class='auto', penalty='l2'\n",
    "    )\n",
    "    model = model.fit(\n",
    "        [sample.reshape(-1) for sample in train_dataset[:num_training_samples]],\n",
    "        train_labels[:num_training_samples]\n",
    "    )\n",
    "    models.append(model)"
   ]
  },
  {
   "cell_type": "code",
   "execution_count": 46,
   "metadata": {},
   "outputs": [],
   "source": [
    "for model in models:\n",
    "    pred_test = model.predict([sample.reshape(-1) for sample in test_dataset])\n",
    "    correct_pred = pred_test[pred_test == test_labels]\n",
    "    print(len(correct_pred)/len(test_labels))"
   ]
  },
  {
   "cell_type": "markdown",
   "metadata": {},
   "source": [
    "Problem 7\n",
    "---------\n",
    "\n",
    "Visualize the coefficients of the LogisticRegression model trained with 5000 samples or more. Then train the above code with 'l1' penalty and visualize them again. Did something change?\n",
    "\n",
    "---\n"
   ]
  },
  {
   "cell_type": "markdown",
   "metadata": {},
   "source": [
    "# Now Let's get started with Tensorflow\n",
    "We're first going to train a multinomial logistic regression using simple gradient descent.\n",
    "\n",
    "TensorFlow works like this:\n",
    "* First you describe the computation that you want to see performed: what the inputs, the variables, and the operations look like. These get created as nodes over a computation graph. This description is all contained within the block below:\n",
    "\n",
    "      with graph.as_default():\n",
    "          ...\n",
    "\n",
    "* Then you can run the operations on this graph as many times as you want by calling `session.run()`, providing it outputs to fetch from the graph that get returned. This runtime operation is all contained in the block below:\n",
    "\n",
    "      with tf.Session(graph=graph) as session:\n",
    "          ..."
   ]
  },
  {
   "cell_type": "markdown",
   "metadata": {},
   "source": [
    "---"
   ]
  },
  {
   "cell_type": "markdown",
   "metadata": {},
   "source": [
    "First reformat into a shape that's more adapted to the models we're going to train:\n",
    "- data as a flat matrix,\n",
    "- labels as float 1-hot encodings."
   ]
  },
  {
   "cell_type": "code",
   "execution_count": 47,
   "metadata": {},
   "outputs": [
    {
     "output_type": "error",
     "ename": "NameError",
     "evalue": "name 'train_dataset' is not defined",
     "traceback": [
      "\u001b[0;31m---------------------------------------------------------------------------\u001b[0m",
      "\u001b[0;31mNameError\u001b[0m                                 Traceback (most recent call last)",
      "\u001b[0;32m<ipython-input-47-bd309d2d7e3a>\u001b[0m in \u001b[0;36m<module>\u001b[0;34m\u001b[0m\n\u001b[1;32m      7\u001b[0m   \u001b[0mlabels\u001b[0m \u001b[0;34m=\u001b[0m \u001b[0;34m(\u001b[0m\u001b[0mnp\u001b[0m\u001b[0;34m.\u001b[0m\u001b[0marange\u001b[0m\u001b[0;34m(\u001b[0m\u001b[0mnum_labels\u001b[0m\u001b[0;34m)\u001b[0m \u001b[0;34m==\u001b[0m \u001b[0mlabels\u001b[0m\u001b[0;34m[\u001b[0m\u001b[0;34m:\u001b[0m\u001b[0;34m,\u001b[0m\u001b[0;32mNone\u001b[0m\u001b[0;34m]\u001b[0m\u001b[0;34m)\u001b[0m\u001b[0;34m.\u001b[0m\u001b[0mastype\u001b[0m\u001b[0;34m(\u001b[0m\u001b[0mnp\u001b[0m\u001b[0;34m.\u001b[0m\u001b[0mfloat32\u001b[0m\u001b[0;34m)\u001b[0m\u001b[0;34m\u001b[0m\u001b[0;34m\u001b[0m\u001b[0m\n\u001b[1;32m      8\u001b[0m   \u001b[0;32mreturn\u001b[0m \u001b[0mdataset\u001b[0m\u001b[0;34m,\u001b[0m \u001b[0mlabels\u001b[0m\u001b[0;34m\u001b[0m\u001b[0;34m\u001b[0m\u001b[0m\n\u001b[0;32m----> 9\u001b[0;31m \u001b[0mtrain_dataset\u001b[0m\u001b[0;34m,\u001b[0m \u001b[0mtrain_labels\u001b[0m \u001b[0;34m=\u001b[0m \u001b[0mreformat\u001b[0m\u001b[0;34m(\u001b[0m\u001b[0mtrain_dataset\u001b[0m\u001b[0;34m,\u001b[0m \u001b[0mtrain_labels\u001b[0m\u001b[0;34m)\u001b[0m\u001b[0;34m\u001b[0m\u001b[0;34m\u001b[0m\u001b[0m\n\u001b[0m\u001b[1;32m     10\u001b[0m \u001b[0mvalid_dataset\u001b[0m\u001b[0;34m,\u001b[0m \u001b[0mvalid_labels\u001b[0m \u001b[0;34m=\u001b[0m \u001b[0mreformat\u001b[0m\u001b[0;34m(\u001b[0m\u001b[0mvalid_dataset\u001b[0m\u001b[0;34m,\u001b[0m \u001b[0mvalid_labels\u001b[0m\u001b[0;34m)\u001b[0m\u001b[0;34m\u001b[0m\u001b[0;34m\u001b[0m\u001b[0m\n\u001b[1;32m     11\u001b[0m \u001b[0mtest_dataset\u001b[0m\u001b[0;34m,\u001b[0m \u001b[0mtest_labels\u001b[0m \u001b[0;34m=\u001b[0m \u001b[0mreformat\u001b[0m\u001b[0;34m(\u001b[0m\u001b[0mtest_dataset\u001b[0m\u001b[0;34m,\u001b[0m \u001b[0mtest_labels\u001b[0m\u001b[0;34m)\u001b[0m\u001b[0;34m\u001b[0m\u001b[0;34m\u001b[0m\u001b[0m\n",
      "\u001b[0;31mNameError\u001b[0m: name 'train_dataset' is not defined"
     ]
    }
   ],
   "source": [
    "image_size = 28\n",
    "num_labels = 10\n",
    "\n",
    "def reformat(dataset, labels):\n",
    "  dataset = dataset.reshape((-1, image_size * image_size)).astype(np.float32)\n",
    "  # Map 0 to [1.0, 0.0, 0.0 ...], 1 to [0.0, 1.0, 0.0 ...]\n",
    "  labels = (np.arange(num_labels) == labels[:,None]).astype(np.float32)\n",
    "  return dataset, labels\n",
    "train_dataset, train_labels = reformat(train_dataset, train_labels)\n",
    "valid_dataset, valid_labels = reformat(valid_dataset, valid_labels)\n",
    "test_dataset, test_labels = reformat(test_dataset, test_labels)\n",
    "print('Training set', train_dataset.shape, train_labels.shape)\n",
    "print('Validation set', valid_dataset.shape, valid_labels.shape)\n",
    "print('Test set', test_dataset.shape, test_labels.shape)"
   ]
  },
  {
   "cell_type": "markdown",
   "metadata": {},
   "source": [
    "Now let's load all the data into TensorFlow and build the computation graph corresponding to our training:"
   ]
  },
  {
   "cell_type": "code",
   "execution_count": 48,
   "metadata": {},
   "outputs": [
    {
     "output_type": "error",
     "ename": "NameError",
     "evalue": "name 'train_dataset' is not defined",
     "traceback": [
      "\u001b[0;31m---------------------------------------------------------------------------\u001b[0m",
      "\u001b[0;31mNameError\u001b[0m                                 Traceback (most recent call last)",
      "\u001b[0;32m<ipython-input-48-a63b81b5ccf1>\u001b[0m in \u001b[0;36m<module>\u001b[0;34m\u001b[0m\n\u001b[1;32m      9\u001b[0m   \u001b[0;31m# Load the training, validation and test data into constants that are\u001b[0m\u001b[0;34m\u001b[0m\u001b[0;34m\u001b[0m\u001b[0;34m\u001b[0m\u001b[0m\n\u001b[1;32m     10\u001b[0m   \u001b[0;31m# attached to the graph.\u001b[0m\u001b[0;34m\u001b[0m\u001b[0;34m\u001b[0m\u001b[0;34m\u001b[0m\u001b[0m\n\u001b[0;32m---> 11\u001b[0;31m   \u001b[0mtf_train_dataset\u001b[0m \u001b[0;34m=\u001b[0m \u001b[0mtf\u001b[0m\u001b[0;34m.\u001b[0m\u001b[0mconstant\u001b[0m\u001b[0;34m(\u001b[0m\u001b[0mtrain_dataset\u001b[0m\u001b[0;34m[\u001b[0m\u001b[0;34m:\u001b[0m\u001b[0mtrain_subset\u001b[0m\u001b[0;34m,\u001b[0m \u001b[0;34m:\u001b[0m\u001b[0;34m]\u001b[0m\u001b[0;34m)\u001b[0m\u001b[0;34m\u001b[0m\u001b[0;34m\u001b[0m\u001b[0m\n\u001b[0m\u001b[1;32m     12\u001b[0m   \u001b[0mtf_train_labels\u001b[0m \u001b[0;34m=\u001b[0m \u001b[0mtf\u001b[0m\u001b[0;34m.\u001b[0m\u001b[0mconstant\u001b[0m\u001b[0;34m(\u001b[0m\u001b[0mtrain_labels\u001b[0m\u001b[0;34m[\u001b[0m\u001b[0;34m:\u001b[0m\u001b[0mtrain_subset\u001b[0m\u001b[0;34m]\u001b[0m\u001b[0;34m)\u001b[0m\u001b[0;34m\u001b[0m\u001b[0;34m\u001b[0m\u001b[0m\n\u001b[1;32m     13\u001b[0m   \u001b[0mtf_valid_dataset\u001b[0m \u001b[0;34m=\u001b[0m \u001b[0mtf\u001b[0m\u001b[0;34m.\u001b[0m\u001b[0mconstant\u001b[0m\u001b[0;34m(\u001b[0m\u001b[0mvalid_dataset\u001b[0m\u001b[0;34m)\u001b[0m\u001b[0;34m\u001b[0m\u001b[0;34m\u001b[0m\u001b[0m\n",
      "\u001b[0;31mNameError\u001b[0m: name 'train_dataset' is not defined"
     ]
    }
   ],
   "source": [
    "# With gradient descent training, even this much data is prohibitive.\n",
    "# Subset the training data for faster turnaround.\n",
    "train_subset = 10000\n",
    "\n",
    "graph = tf.Graph()\n",
    "with graph.as_default():\n",
    "\n",
    "  # Input data.\n",
    "  # Load the training, validation and test data into constants that are\n",
    "  # attached to the graph.\n",
    "  tf_train_dataset = tf.constant(train_dataset[:train_subset, :])\n",
    "  tf_train_labels = tf.constant(train_labels[:train_subset])\n",
    "  tf_valid_dataset = tf.constant(valid_dataset)\n",
    "  tf_test_dataset = tf.constant(test_dataset)\n",
    "  \n",
    "  # Variables.\n",
    "  # These are the parameters that we are going to be training. The weight\n",
    "  # matrix will be initialized using random values following a (truncated)\n",
    "  # normal distribution. The biases get initialized to zero.\n",
    "  weights = tf.Variable(\n",
    "    tf.truncated_normal([image_size * image_size, num_labels]))\n",
    "  biases = tf.Variable(tf.zeros([num_labels]))\n",
    "  \n",
    "  # Training computation.\n",
    "  # We multiply the inputs with the weight matrix, and add biases. We compute\n",
    "  # the softmax and cross-entropy (it's one operation in TensorFlow, because\n",
    "  # it's very common, and it can be optimized). We take the average of this\n",
    "  # cross-entropy across all training examples: that's our loss.\n",
    "  logits = tf.matmul(tf_train_dataset, weights) + biases\n",
    "  loss = tf.reduce_mean(\n",
    "    tf.nn.softmax_cross_entropy_with_logits_v2(labels=tf_train_labels, logits=logits))\n",
    "  \n",
    "  # Optimizer.\n",
    "  # We are going to find the minimum of this loss using gradient descent.\n",
    "  optimizer = tf.train.GradientDescentOptimizer(0.5).minimize(loss)\n",
    "  \n",
    "  # Predictions for the training, validation, and test data.\n",
    "  # These are not part of training, but merely here so that we can report\n",
    "  # accuracy figures as we train.\n",
    "  train_prediction = tf.nn.softmax(logits)\n",
    "  valid_prediction = tf.nn.softmax(\n",
    "    tf.matmul(tf_valid_dataset, weights) + biases)\n",
    "  test_prediction = tf.nn.softmax(tf.matmul(tf_test_dataset, weights) + biases)"
   ]
  },
  {
   "cell_type": "markdown",
   "metadata": {},
   "source": [
    "Let's run this computation and iterate:"
   ]
  },
  {
   "cell_type": "code",
   "execution_count": 49,
   "metadata": {},
   "outputs": [
    {
     "output_type": "error",
     "ename": "AttributeError",
     "evalue": "module 'tensorflow' has no attribute 'Session'",
     "traceback": [
      "\u001b[0;31m---------------------------------------------------------------------------\u001b[0m",
      "\u001b[0;31mAttributeError\u001b[0m                            Traceback (most recent call last)",
      "\u001b[0;32m<ipython-input-49-e487b9754635>\u001b[0m in \u001b[0;36m<module>\u001b[0;34m\u001b[0m\n\u001b[1;32m      5\u001b[0m           / predictions.shape[0])\n\u001b[1;32m      6\u001b[0m \u001b[0;34m\u001b[0m\u001b[0m\n\u001b[0;32m----> 7\u001b[0;31m \u001b[0;32mwith\u001b[0m \u001b[0mtf\u001b[0m\u001b[0;34m.\u001b[0m\u001b[0mSession\u001b[0m\u001b[0;34m(\u001b[0m\u001b[0mgraph\u001b[0m\u001b[0;34m=\u001b[0m\u001b[0mgraph\u001b[0m\u001b[0;34m)\u001b[0m \u001b[0;32mas\u001b[0m \u001b[0msession\u001b[0m\u001b[0;34m:\u001b[0m\u001b[0;34m\u001b[0m\u001b[0;34m\u001b[0m\u001b[0m\n\u001b[0m\u001b[1;32m      8\u001b[0m   \u001b[0;31m# This is a one-time operation which ensures the parameters get initialized as\u001b[0m\u001b[0;34m\u001b[0m\u001b[0;34m\u001b[0m\u001b[0;34m\u001b[0m\u001b[0m\n\u001b[1;32m      9\u001b[0m   \u001b[0;31m# we described in the graph: random weights for the matrix, zeros for the\u001b[0m\u001b[0;34m\u001b[0m\u001b[0;34m\u001b[0m\u001b[0;34m\u001b[0m\u001b[0m\n",
      "\u001b[0;31mAttributeError\u001b[0m: module 'tensorflow' has no attribute 'Session'"
     ]
    }
   ],
   "source": [
    "num_steps = 801\n",
    "\n",
    "def accuracy(predictions, labels):\n",
    "  return (100.0 * np.sum(np.argmax(predictions, 1) == np.argmax(labels, 1))\n",
    "          / predictions.shape[0])\n",
    "\n",
    "with tf.Session(graph=graph) as session:\n",
    "  # This is a one-time operation which ensures the parameters get initialized as\n",
    "  # we described in the graph: random weights for the matrix, zeros for the\n",
    "  # biases. \n",
    "  tf.global_variables_initializer().run()\n",
    "  print('Initialized')\n",
    "  for step in range(num_steps):\n",
    "    # Run the computations. We tell .run() that we want to run the optimizer,\n",
    "    # and get the loss value and the training predictions returned as numpy\n",
    "    # arrays.\n",
    "    _, l, predictions = session.run([optimizer, loss, train_prediction])\n",
    "    if (step % 100 == 0):\n",
    "      print('Loss at step %d: %f' % (step, l))\n",
    "      print('Training accuracy: %.1f%%' % accuracy(\n",
    "        predictions, train_labels[:train_subset, :]))\n",
    "      # Calling .eval() on valid_prediction is basically like calling run(), but\n",
    "      # just to get that one numpy array. Note that it recomputes all its graph\n",
    "      # dependencies.\n",
    "      print('Validation accuracy: %.1f%%' % accuracy(\n",
    "        valid_prediction.eval(), valid_labels))\n",
    "  print('Test accuracy: %.1f%%' % accuracy(test_prediction.eval(), test_labels))"
   ]
  },
  {
   "cell_type": "markdown",
   "metadata": {},
   "source": [
    "et's now switch to stochastic gradient descent training instead, which is much faster.\n",
    "\n",
    "The graph will be similar, except that instead of holding all the training data into a constant node, we create a `Placeholder` node which will be fed actual data at every call of `session.run()`."
   ]
  },
  {
   "cell_type": "code",
   "execution_count": 50,
   "metadata": {},
   "outputs": [
    {
     "output_type": "error",
     "ename": "AttributeError",
     "evalue": "module 'tensorflow' has no attribute 'placeholder'",
     "traceback": [
      "\u001b[0;31m---------------------------------------------------------------------------\u001b[0m",
      "\u001b[0;31mAttributeError\u001b[0m                            Traceback (most recent call last)",
      "\u001b[0;32m<ipython-input-50-1fe92aeb1cee>\u001b[0m in \u001b[0;36m<module>\u001b[0;34m\u001b[0m\n\u001b[1;32m      6\u001b[0m   \u001b[0;31m# Input data. For the training data, we use a placeholder that will be fed\u001b[0m\u001b[0;34m\u001b[0m\u001b[0;34m\u001b[0m\u001b[0;34m\u001b[0m\u001b[0m\n\u001b[1;32m      7\u001b[0m   \u001b[0;31m# at run time with a training minibatch.\u001b[0m\u001b[0;34m\u001b[0m\u001b[0;34m\u001b[0m\u001b[0;34m\u001b[0m\u001b[0m\n\u001b[0;32m----> 8\u001b[0;31m   tf_train_dataset = tf.placeholder(tf.float32,\n\u001b[0m\u001b[1;32m      9\u001b[0m                                     shape=(batch_size, image_size * image_size))\n\u001b[1;32m     10\u001b[0m   \u001b[0mtf_train_labels\u001b[0m \u001b[0;34m=\u001b[0m \u001b[0mtf\u001b[0m\u001b[0;34m.\u001b[0m\u001b[0mplaceholder\u001b[0m\u001b[0;34m(\u001b[0m\u001b[0mtf\u001b[0m\u001b[0;34m.\u001b[0m\u001b[0mfloat32\u001b[0m\u001b[0;34m,\u001b[0m \u001b[0mshape\u001b[0m\u001b[0;34m=\u001b[0m\u001b[0;34m(\u001b[0m\u001b[0mbatch_size\u001b[0m\u001b[0;34m,\u001b[0m \u001b[0mnum_labels\u001b[0m\u001b[0;34m)\u001b[0m\u001b[0;34m)\u001b[0m\u001b[0;34m\u001b[0m\u001b[0;34m\u001b[0m\u001b[0m\n",
      "\u001b[0;31mAttributeError\u001b[0m: module 'tensorflow' has no attribute 'placeholder'"
     ]
    }
   ],
   "source": [
    "batch_size = 128\n",
    "\n",
    "graph = tf.Graph()\n",
    "with graph.as_default():\n",
    "\n",
    "  # Input data. For the training data, we use a placeholder that will be fed\n",
    "  # at run time with a training minibatch.\n",
    "  tf_train_dataset = tf.placeholder(tf.float32,\n",
    "                                    shape=(batch_size, image_size * image_size))\n",
    "  tf_train_labels = tf.placeholder(tf.float32, shape=(batch_size, num_labels))\n",
    "  tf_valid_dataset = tf.constant(valid_dataset)\n",
    "  tf_test_dataset = tf.constant(test_dataset)\n",
    "  \n",
    "  # Variables.\n",
    "  weights = tf.Variable(\n",
    "    tf.truncated_normal([image_size * image_size, num_labels]))\n",
    "  biases = tf.Variable(tf.zeros([num_labels]))\n",
    "  \n",
    "  # Training computation.\n",
    "  logits = tf.matmul(tf_train_dataset, weights) + biases\n",
    "  loss = tf.reduce_mean(\n",
    "    tf.nn.softmax_cross_entropy_with_logits(labels=tf_train_labels, logits=logits))\n",
    "  \n",
    "  # Optimizer.\n",
    "  optimizer = tf.train.GradientDescentOptimizer(0.5).minimize(loss)\n",
    "  \n",
    "  # Predictions for the training, validation, and test data.\n",
    "  train_prediction = tf.nn.softmax(logits)\n",
    "  valid_prediction = tf.nn.softmax(\n",
    "    tf.matmul(tf_valid_dataset, weights) + biases)\n",
    "  test_prediction = tf.nn.softmax(tf.matmul(tf_test_dataset, weights) + biases)"
   ]
  },
  {
   "cell_type": "code",
   "execution_count": 51,
   "metadata": {
    "scrolled": false
   },
   "outputs": [
    {
     "output_type": "error",
     "ename": "AttributeError",
     "evalue": "module 'tensorflow' has no attribute 'Session'",
     "traceback": [
      "\u001b[0;31m---------------------------------------------------------------------------\u001b[0m",
      "\u001b[0;31mAttributeError\u001b[0m                            Traceback (most recent call last)",
      "\u001b[0;32m<ipython-input-51-834da8770b07>\u001b[0m in \u001b[0;36m<module>\u001b[0;34m\u001b[0m\n\u001b[1;32m      1\u001b[0m \u001b[0mnum_steps\u001b[0m \u001b[0;34m=\u001b[0m \u001b[0;36m6001\u001b[0m\u001b[0;34m\u001b[0m\u001b[0;34m\u001b[0m\u001b[0m\n\u001b[1;32m      2\u001b[0m \u001b[0;34m\u001b[0m\u001b[0m\n\u001b[0;32m----> 3\u001b[0;31m \u001b[0;32mwith\u001b[0m \u001b[0mtf\u001b[0m\u001b[0;34m.\u001b[0m\u001b[0mSession\u001b[0m\u001b[0;34m(\u001b[0m\u001b[0mgraph\u001b[0m\u001b[0;34m=\u001b[0m\u001b[0mgraph\u001b[0m\u001b[0;34m)\u001b[0m \u001b[0;32mas\u001b[0m \u001b[0msession\u001b[0m\u001b[0;34m:\u001b[0m\u001b[0;34m\u001b[0m\u001b[0;34m\u001b[0m\u001b[0m\n\u001b[0m\u001b[1;32m      4\u001b[0m   \u001b[0mtf\u001b[0m\u001b[0;34m.\u001b[0m\u001b[0mglobal_variables_initializer\u001b[0m\u001b[0;34m(\u001b[0m\u001b[0;34m)\u001b[0m\u001b[0;34m.\u001b[0m\u001b[0mrun\u001b[0m\u001b[0;34m(\u001b[0m\u001b[0;34m)\u001b[0m\u001b[0;34m\u001b[0m\u001b[0;34m\u001b[0m\u001b[0m\n\u001b[1;32m      5\u001b[0m   \u001b[0mprint\u001b[0m\u001b[0;34m(\u001b[0m\u001b[0;34m\"Initialized\"\u001b[0m\u001b[0;34m)\u001b[0m\u001b[0;34m\u001b[0m\u001b[0;34m\u001b[0m\u001b[0m\n",
      "\u001b[0;31mAttributeError\u001b[0m: module 'tensorflow' has no attribute 'Session'"
     ]
    }
   ],
   "source": [
    "num_steps = 6001\n",
    "\n",
    "with tf.Session(graph=graph) as session:\n",
    "  tf.global_variables_initializer().run()\n",
    "  print(\"Initialized\")\n",
    "  for step in range(num_steps):\n",
    "    # Pick an offset within the training data, which has been randomized.\n",
    "    # Note: we could use better randomization across epochs.\n",
    "    offset = (step * batch_size) % (train_labels.shape[0] - batch_size)\n",
    "    # Generate a minibatch.\n",
    "    batch_data = train_dataset[offset:(offset + batch_size), :]\n",
    "    batch_labels = train_labels[offset:(offset + batch_size), :]\n",
    "    # Prepare a dictionary telling the session where to feed the minibatch.\n",
    "    # The key of the dictionary is the placeholder node of the graph to be fed,\n",
    "    # and the value is the numpy array to feed to it.\n",
    "    feed_dict = {tf_train_dataset : batch_data, tf_train_labels : batch_labels}\n",
    "    _, l, predictions = session.run(\n",
    "      [optimizer, loss, train_prediction], feed_dict=feed_dict)\n",
    "    if (step % 500 == 0):\n",
    "      print(\"Minibatch loss at step %d: %f\" % (step, l))\n",
    "      print(\"Minibatch accuracy: %.1f%%\" % accuracy(predictions, batch_labels))\n",
    "      print(\"Validation accuracy: %.1f%%\" % accuracy(\n",
    "        valid_prediction.eval(), valid_labels))\n",
    "  print(\"Test accuracy: %.1f%%\" % accuracy(test_prediction.eval(), test_labels))"
   ]
  },
  {
   "cell_type": "markdown",
   "metadata": {},
   "source": [
    "---\n",
    "Problem 8\n",
    "-------\n",
    "\n",
    "Play a bit with num_steps and batch_size of SGD. What maximum test accuracy can you achieve?\n",
    "\n",
    "---"
   ]
  },
  {
   "cell_type": "markdown",
   "metadata": {},
   "source": [
    "---\n",
    "Problem 9\n",
    "-------\n",
    "\n",
    "Turn the logistic regression example with SGD into a 1-hidden layer neural network with rectified linear units [nn.relu()](https://www.tensorflow.org/versions/r0.7/api_docs/python/nn.html#relu) and 1024 hidden nodes. This model should improve your validation / test accuracy.\n",
    "\n",
    "---"
   ]
  }
 ],
 "metadata": {
  "kernelspec": {
   "display_name": "Python 3.7.5 64-bit ('venv': venv)",
   "language": "python",
   "name": "python37564bitvenvvenvf03e427fbaf54f58b021176371fdd23b"
  },
  "language_info": {
   "codemirror_mode": {
    "name": "ipython",
    "version": 3
   },
   "file_extension": ".py",
   "mimetype": "text/x-python",
   "name": "python",
   "nbconvert_exporter": "python",
   "pygments_lexer": "ipython3",
   "version": "3.7.5-final"
  }
 },
 "nbformat": 4,
 "nbformat_minor": 2
}