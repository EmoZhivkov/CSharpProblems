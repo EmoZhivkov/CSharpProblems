{
 "cells": [
  {
   "cell_type": "markdown",
   "metadata": {
    "colab_type": "text",
    "id": "4embtkV0pNxM"
   },
   "source": [
    "Deep Learning with Tensorflow\n",
    "=============\n",
    "\n",
    "Assignment II\n",
    "------------\n",
    "\n",
    "During one of the lectures in [Lab 1](https://deep-learning-su.github.io/labs/lab-1/) we trained fully connected network to classify [notMNIST](http://yaroslavvb.blogspot.com/2011/09/notmnist-dataset.html) characters. \n",
    "\n",
    "The goal of this assignment is make the neural network convolutional.\n",
    "\n",
    "For this exercise, you would need the `notMNIST.pickle` created in `Lab 1`. You can obtain it by rerunning the given paragraphs without having to solve the problems (although it is highly recommended to do it if you haven't already)."
   ]
  },
  {
   "cell_type": "code",
   "execution_count": 27,
   "metadata": {
    "cellView": "both",
    "colab": {},
    "colab_type": "code",
    "id": "tm2CQN_Cpwj0"
   },
   "outputs": [],
   "source": [
    "# These are all the modules we'll be using later. Make sure you can import them\n",
    "# before proceeding further.\n",
    "from __future__ import print_function\n",
    "import numpy as np\n",
    "import tensorflow as tf\n",
    "from six.moves import cPickle as pickle\n",
    "from six.moves import range"
   ]
  },
  {
   "cell_type": "code",
   "execution_count": 28,
   "metadata": {
    "cellView": "both",
    "colab": {},
    "colab_type": "code",
    "id": "y3-cj1bpmuxc",
    "tags": []
   },
   "outputs": [
    {
     "output_type": "stream",
     "name": "stdout",
     "text": "Training set (200000, 28, 28) (200000,)\nValidation set (10000, 28, 28) (10000,)\nTest set (10000, 28, 28) (10000,)\n"
    }
   ],
   "source": [
    "pickle_file = 'notMNIST.pickle'\n",
    "\n",
    "with open(pickle_file, 'rb') as f:\n",
    "  save = pickle.load(f)\n",
    "  train_dataset = save['train_dataset']\n",
    "  train_labels = save['train_labels']\n",
    "  valid_dataset = save['valid_dataset']\n",
    "  valid_labels = save['valid_labels']\n",
    "  test_dataset = save['test_dataset']\n",
    "  test_labels = save['test_labels']\n",
    "  del save  # hint to help gc free up memory\n",
    "  print('Training set', train_dataset.shape, train_labels.shape)\n",
    "  print('Validation set', valid_dataset.shape, valid_labels.shape)\n",
    "  print('Test set', test_dataset.shape, test_labels.shape)"
   ]
  },
  {
   "cell_type": "markdown",
   "metadata": {
    "colab_type": "text",
    "id": "L7aHrm6nGDMB"
   },
   "source": [
    "Reformat into a TensorFlow-friendly shape:\n",
    "- convolutions need the image data formatted as a cube (width by height by #channels)\n",
    "- labels as float 1-hot encodings."
   ]
  },
  {
   "cell_type": "code",
   "execution_count": 29,
   "metadata": {
    "cellView": "both",
    "colab": {},
    "colab_type": "code",
    "id": "IRSyYiIIGIzS",
    "tags": []
   },
   "outputs": [
    {
     "output_type": "stream",
     "name": "stdout",
     "text": "Training set (200000, 28, 28, 1) (200000, 10)\nValidation set (10000, 28, 28, 1) (10000, 10)\nTest set (10000, 28, 28, 1) (10000, 10)\n"
    }
   ],
   "source": [
    "image_size = 28\n",
    "num_labels = 10\n",
    "num_channels = 1 # grayscale\n",
    "\n",
    "import numpy as np\n",
    "\n",
    "def reformat(dataset, labels):\n",
    "  dataset = dataset.reshape(\n",
    "    (-1, image_size, image_size, num_channels)).astype(np.float32)\n",
    "  labels = (np.arange(num_labels) == labels[:,None]).astype(np.float32)\n",
    "  return dataset, labels\n",
    "train_dataset, train_labels = reformat(train_dataset, train_labels)\n",
    "valid_dataset, valid_labels = reformat(valid_dataset, valid_labels)\n",
    "test_dataset, test_labels = reformat(test_dataset, test_labels)\n",
    "print('Training set', train_dataset.shape, train_labels.shape)\n",
    "print('Validation set', valid_dataset.shape, valid_labels.shape)\n",
    "print('Test set', test_dataset.shape, test_labels.shape)"
   ]
  },
  {
   "cell_type": "code",
   "execution_count": 30,
   "metadata": {
    "cellView": "both",
    "colab": {},
    "colab_type": "code",
    "id": "AgQDIREv02p1"
   },
   "outputs": [],
   "source": [
    "def accuracy(predictions, labels):\n",
    "  return (100.0 * np.sum(np.argmax(predictions, 1) == np.argmax(labels, 1))\n",
    "          / predictions.shape[0])"
   ]
  },
  {
   "cell_type": "markdown",
   "metadata": {},
   "source": [
    "## Problem 1\n",
    "Let's build a small network with two convolutional layers, followed by one fully connected layer. Convolutional networks are more expensive computationally, so we'll limit its depth and number of fully connected nodes.\n",
    "\n",
    "Edit the snippet bellow by changing the `model` function.\n",
    "\n",
    "### 1.1 - Define the model\n",
    "Implement the `model` function bellow. Take a look at the following TF functions:\n",
    "- **tf.nn.conv2d(X,W1, strides = [1,s,s,1], padding = 'SAME'):** given an input $X$ and a group of filters $W1$, this function convolves $W1$'s filters on X. The third input ([1,f,f,1]) represents the strides for each dimension of the input (m, n_H_prev, n_W_prev, n_C_prev). You can read the full documentation [here](https://www.tensorflow.org/api_docs/python/tf/nn/conv2d)\n",
    "- **tf.nn.relu(Z1):** computes the elementwise ReLU of Z1 (which can be any shape). You can read the full documentation [here.](https://www.tensorflow.org/api_docs/python/tf/nn/relu)\n",
    "\n",
    "### 1.2 - Compute loss\n",
    "\n",
    "Implement the `compute_loss` function below. You might find these two functions helpful: \n",
    "\n",
    "- **tf.nn.softmax_cross_entropy_with_logits(logits = Z3, labels = Y):** computes the softmax entropy loss. This function both computes the softmax activation function as well as the resulting loss. You can check the full documentation  [here.](https://www.tensorflow.org/api_docs/python/tf/nn/softmax_cross_entropy_with_logits)\n",
    "- **tf.reduce_mean:** computes the mean of elements across dimensions of a tensor. Use this to sum the losses over all the examples to get the overall cost. You can check the full documentation [here.](https://www.tensorflow.org/api_docs/python/tf/reduce_mean)\n"
   ]
  },
  {
   "cell_type": "code",
   "execution_count": 31,
   "metadata": {
    "cellView": "both",
    "colab": {},
    "colab_type": "code",
    "id": "IZYv70SvvOan",
    "tags": []
   },
   "outputs": [],
   "source": [
    "batch_size = 16\n",
    "patch_size = 5\n",
    "depth = 16\n",
    "num_hidden = 64\n",
    "\n",
    "def output_size_no_pool(input_size, filter_size, padding, conv_stride):\n",
    "    if padding == 'same':\n",
    "        padding = -1.00\n",
    "    elif padding == 'valid':\n",
    "        padding = 0.00\n",
    "    else:\n",
    "        return None\n",
    "    output_1 = float(((input_size - filter_size - 2*padding) / conv_stride) + 1.00)\n",
    "    output_2 = float(((output_1 - filter_size - 2*padding) / conv_stride) + 1.00)\n",
    "    return int(np.ceil(output_2))\n",
    "\n",
    "\n",
    "graph = tf.Graph()\n",
    "with graph.as_default():\n",
    "  tf_train_dataset = tf.placeholder(tf.float32, shape=(batch_size, image_size, image_size, num_channels))\n",
    "  tf_train_labels = tf.placeholder(tf.float32, shape=(batch_size, num_labels))\n",
    "  tf_valid_dataset = tf.constant(valid_dataset)\n",
    "  tf_test_dataset = tf.constant(test_dataset)\n",
    "  \n",
    "  weights_l1 = tf.Variable(tf.truncated_normal([patch_size, patch_size, num_channels, depth], stddev=0.1))\n",
    "  biases_l1 = tf.Variable(tf.zeros([depth]))\n",
    "  \n",
    "  weights_l2 = tf.Variable(tf.truncated_normal([patch_size, patch_size, depth, depth],   stddev=0.1))\n",
    "  biases_l2 = tf.Variable(tf.constant(1.0, shape=[depth]))\n",
    "  \n",
    "  final_image_size = output_size_no_pool(image_size, patch_size, padding='same', conv_stride=2)\n",
    "  weights_l3 = tf.Variable(tf.truncated_normal([final_image_size * final_image_size * depth, num_hidden], stddev=0.1))\n",
    "  biases_l3 = tf.Variable(tf.constant(1.0, shape=[num_hidden]))\n",
    "  \n",
    "  weights_l4 = tf.Variable(tf.truncated_normal([num_hidden, num_labels], stddev=0.1))\n",
    "  biases_l4 = tf.Variable(tf.constant(1.0, shape=[num_labels]))\n",
    "  \n",
    "  # Model.\n",
    "  def model(data):\n",
    "    conv = tf.nn.conv2d(data, weights_l1, strides=[1, 2, 2, 1], padding='SAME')\n",
    "    hidden = tf.nn.relu(conv + biases_l1)\n",
    "    \n",
    "    conv = tf.nn.conv2d(hidden, weights_l2, strides=[1, 2, 2, 1], padding='SAME')\n",
    "    hidden = tf.nn.relu(conv + biases_l2)   \n",
    "    \n",
    "    shape = hidden.get_shape().as_list()\n",
    "    reshape = tf.reshape(hidden, [shape[0], shape[1] * shape[2] * shape[3]])\n",
    "    hidden = tf.nn.relu(tf.matmul(reshape, weights_l3) + biases_l3)\n",
    "\n",
    "    return tf.matmul(hidden, weights_l4) + biases_l4\n",
    "\n",
    "  def compute_loss(labels, logits):\n",
    "    return tf.reduce_mean(tf.nn.softmax_cross_entropy_with_logits_v2(logits=logits, labels=labels))\n",
    "  \n",
    "  # Training computation.\n",
    "  logits = model(tf_train_dataset)\n",
    "  loss = compute_loss(tf_train_labels, logits)\n",
    "    \n",
    "  # Optimizer.\n",
    "  optimizer = tf.train.GradientDescentOptimizer(0.05).minimize(loss)\n",
    "  \n",
    "  # Predictions for the training, validation, and test data.\n",
    "  train_prediction = tf.nn.softmax(logits)\n",
    "  valid_prediction = tf.nn.softmax(model(tf_valid_dataset))\n",
    "  test_prediction = tf.nn.softmax(model(tf_test_dataset))"
   ]
  },
  {
   "cell_type": "markdown",
   "metadata": {
    "colab_type": "text",
    "id": "ZkzpbHET-m8S"
   },
   "source": [
    "### 1.3 - Measure the accuracy and tune your model\n",
    "\n",
    "Run the snippet bellow to measure the accuracy of your model. Try to achieve a test accuracy of around 80%. Iterate on the filters size."
   ]
  },
  {
   "cell_type": "code",
   "execution_count": 32,
   "metadata": {
    "cellView": "both",
    "colab": {},
    "colab_type": "code",
    "id": "noKFb2UovVFR",
    "tags": []
   },
   "outputs": [
    {
     "output_type": "stream",
     "name": "stdout",
     "text": "Initialized\nMinibatch loss at step 0: 3.730139\nMinibatch accuracy: 6.2%\nValidation accuracy: 10.0%\nMinibatch loss at step 50: 1.759906\nMinibatch accuracy: 50.0%\nValidation accuracy: 45.1%\nMinibatch loss at step 100: 0.795882\nMinibatch accuracy: 62.5%\nValidation accuracy: 69.9%\nMinibatch loss at step 150: 1.080710\nMinibatch accuracy: 62.5%\nValidation accuracy: 71.5%\nMinibatch loss at step 200: 0.436723\nMinibatch accuracy: 93.8%\nValidation accuracy: 77.8%\nMinibatch loss at step 250: 0.813656\nMinibatch accuracy: 75.0%\nValidation accuracy: 78.4%\nMinibatch loss at step 300: 1.112368\nMinibatch accuracy: 62.5%\nValidation accuracy: 77.9%\nMinibatch loss at step 350: 1.184072\nMinibatch accuracy: 68.8%\nValidation accuracy: 78.8%\nMinibatch loss at step 400: 0.891509\nMinibatch accuracy: 81.2%\nValidation accuracy: 80.6%\nMinibatch loss at step 450: 0.388720\nMinibatch accuracy: 87.5%\nValidation accuracy: 80.5%\nMinibatch loss at step 500: 0.590548\nMinibatch accuracy: 75.0%\nValidation accuracy: 80.8%\nMinibatch loss at step 550: 0.092174\nMinibatch accuracy: 100.0%\nValidation accuracy: 81.7%\nMinibatch loss at step 600: 0.542953\nMinibatch accuracy: 81.2%\nValidation accuracy: 81.3%\nMinibatch loss at step 650: 0.558786\nMinibatch accuracy: 81.2%\nValidation accuracy: 82.5%\nMinibatch loss at step 700: 0.375630\nMinibatch accuracy: 81.2%\nValidation accuracy: 80.9%\nMinibatch loss at step 750: 0.224493\nMinibatch accuracy: 93.8%\nValidation accuracy: 82.5%\nMinibatch loss at step 800: 0.939949\nMinibatch accuracy: 75.0%\nValidation accuracy: 81.9%\nMinibatch loss at step 850: 0.330588\nMinibatch accuracy: 93.8%\nValidation accuracy: 82.6%\nMinibatch loss at step 900: 1.105592\nMinibatch accuracy: 75.0%\nValidation accuracy: 82.4%\nMinibatch loss at step 950: 0.957998\nMinibatch accuracy: 75.0%\nValidation accuracy: 82.8%\nMinibatch loss at step 1000: 0.913732\nMinibatch accuracy: 81.2%\nValidation accuracy: 82.6%\nTest accuracy: 88.7%\n"
    }
   ],
   "source": [
    "num_steps = 1001\n",
    "\n",
    "with tf.Session(graph=graph) as session:\n",
    "  tf.global_variables_initializer().run()\n",
    "  print('Initialized')\n",
    "  for step in range(num_steps):\n",
    "    offset = (step * batch_size) % (train_labels.shape[0] - batch_size)\n",
    "    batch_data = train_dataset[offset:(offset + batch_size), :, :, :]\n",
    "    batch_labels = train_labels[offset:(offset + batch_size), :]\n",
    "    feed_dict = {tf_train_dataset : batch_data, tf_train_labels : batch_labels}\n",
    "    _, l, predictions = session.run(\n",
    "      [optimizer, loss, train_prediction], feed_dict=feed_dict)\n",
    "    if (step % 50 == 0):\n",
    "      print('Minibatch loss at step %d: %f' % (step, l))\n",
    "      print('Minibatch accuracy: %.1f%%' % accuracy(predictions, batch_labels))\n",
    "      print('Validation accuracy: %.1f%%' % accuracy(\n",
    "        valid_prediction.eval(), valid_labels))\n",
    "  print('Test accuracy: %.1f%%' % accuracy(test_prediction.eval(), test_labels))"
   ]
  },
  {
   "cell_type": "markdown",
   "metadata": {
    "colab_type": "text",
    "id": "KedKkn4EutIK"
   },
   "source": [
    "---\n",
    "Problem 2\n",
    "---------\n",
    "\n",
    "The convolutional model above uses convolutions with stride 2 to reduce the dimensionality. Replace the strides by a max pooling operation (`nn.max_pool()`) of stride 2 and kernel size 2.\n",
    "\n",
    "---"
   ]
  },
  {
   "cell_type": "code",
   "execution_count": 33,
   "metadata": {},
   "outputs": [],
   "source": [
    "batch_size = 16\n",
    "depth = 16\n",
    "num_hidden = 64\n",
    "\n",
    "graph = tf.Graph()\n",
    "with graph.as_default():\n",
    "    tf_train_dataset = tf.placeholder(tf.float32, shape=(batch_size, image_size, image_size, num_channels))\n",
    "    tf_train_labels = tf.placeholder(tf.float32, shape=(batch_size, num_labels))\n",
    "    tf_valid_dataset = tf.constant(valid_dataset)\n",
    "    tf_test_dataset = tf.constant(test_dataset)\n",
    "\n",
    "    weights_l1 = tf.Variable(tf.truncated_normal([patch_size, patch_size, num_channels, depth], stddev=0.1))\n",
    "    biases_l1 = tf.Variable(tf.zeros([depth]))\n",
    "    \n",
    "    weights_l2 = tf.Variable(tf.truncated_normal([patch_size, patch_size, depth, depth], stddev=0.1))\n",
    "    biases_l2 = tf.Variable(tf.constant(1.0, shape=[depth]))\n",
    "\n",
    "    weights_l3 = tf.Variable(tf.truncated_normal([final_image_size * final_image_size * depth, num_hidden], stddev=0.1))\n",
    "    biases_l3 = tf.Variable(tf.constant(1.0, shape=[num_hidden]))\n",
    "    \n",
    "    weights_l4 = tf.Variable(tf.truncated_normal([num_hidden, num_labels], stddev=0.1))\n",
    "    biases_l4 = tf.Variable(tf.constant(1.0, shape=[num_labels]))\n",
    "\n",
    "    # Model.\n",
    "    def model(data):\n",
    "        conv_1 = tf.nn.conv2d(data, weights_l1, strides=[1, 1, 1, 1], padding='SAME')\n",
    "        hidden_1 = tf.nn.relu(conv_1 + biases_l1)\n",
    "        pool_1 = tf.nn.max_pool(hidden_1, [1, 2, 2, 1], [1, 2, 2, 1], padding='SAME')\n",
    "      \n",
    "        conv_2 = tf.nn.conv2d(pool_1, weights_l2, strides=[1, 1, 1, 1], padding='SAME')\n",
    "        hidden_2 = tf.nn.relu(conv_2 + biases_l2)\n",
    "        pool_2 = tf.nn.max_pool(hidden_2, [1, 2, 2, 1], [1, 2, 2, 1], padding='SAME')\n",
    "        \n",
    "        shape = pool_2.get_shape().as_list()\n",
    "        reshape = tf.reshape(pool_2, [shape[0], shape[1] * shape[2] * shape[3]])\n",
    "        hidden = tf.nn.relu(tf.matmul(reshape, weights_l3) + biases_l3)\n",
    "        \n",
    "        return tf.matmul(hidden, weights_l4) + biases_l4\n",
    "\n",
    "    def compute_loss(labels, logits):\n",
    "        return tf.reduce_mean(tf.nn.softmax_cross_entropy_with_logits_v2(logits=logits, labels=labels))\n",
    "\n",
    "    # Training computation.\n",
    "    logits = model(tf_train_dataset)\n",
    "    loss = compute_loss(tf_train_labels, logits)\n",
    "\n",
    "    # Optimizer.\n",
    "    optimizer = tf.train.GradientDescentOptimizer(0.05).minimize(loss)\n",
    "\n",
    "    # Predictions for the training, validation, and test data.\n",
    "    train_prediction = tf.nn.softmax(logits)\n",
    "    valid_prediction = tf.nn.softmax(model(tf_valid_dataset))\n",
    "    test_prediction = tf.nn.softmax(model(tf_test_dataset))"
   ]
  },
  {
   "cell_type": "code",
   "execution_count": 34,
   "metadata": {
    "tags": []
   },
   "outputs": [
    {
     "output_type": "stream",
     "name": "stdout",
     "text": "Initialized\nMinibatch loss at step 0: 3.383842\nMinibatch accuracy: 18.8%\nValidation accuracy: 10.0%\nMinibatch loss at step 50: 1.833165\nMinibatch accuracy: 25.0%\nValidation accuracy: 37.3%\nMinibatch loss at step 100: 0.994763\nMinibatch accuracy: 56.2%\nValidation accuracy: 56.9%\nMinibatch loss at step 150: 1.066578\nMinibatch accuracy: 62.5%\nValidation accuracy: 62.5%\nMinibatch loss at step 200: 0.491663\nMinibatch accuracy: 87.5%\nValidation accuracy: 75.2%\nMinibatch loss at step 250: 0.659681\nMinibatch accuracy: 81.2%\nValidation accuracy: 75.7%\nMinibatch loss at step 300: 1.099446\nMinibatch accuracy: 62.5%\nValidation accuracy: 76.6%\nMinibatch loss at step 350: 1.175911\nMinibatch accuracy: 62.5%\nValidation accuracy: 80.0%\nMinibatch loss at step 400: 0.736692\nMinibatch accuracy: 81.2%\nValidation accuracy: 81.5%\nMinibatch loss at step 450: 0.478065\nMinibatch accuracy: 87.5%\nValidation accuracy: 81.6%\nMinibatch loss at step 500: 0.514336\nMinibatch accuracy: 87.5%\nValidation accuracy: 81.5%\nMinibatch loss at step 550: 0.132912\nMinibatch accuracy: 100.0%\nValidation accuracy: 81.8%\nMinibatch loss at step 600: 0.577711\nMinibatch accuracy: 81.2%\nValidation accuracy: 81.9%\nMinibatch loss at step 650: 0.545809\nMinibatch accuracy: 87.5%\nValidation accuracy: 82.3%\nMinibatch loss at step 700: 0.387882\nMinibatch accuracy: 81.2%\nValidation accuracy: 82.3%\nMinibatch loss at step 750: 0.183505\nMinibatch accuracy: 93.8%\nValidation accuracy: 83.1%\nMinibatch loss at step 800: 0.981527\nMinibatch accuracy: 75.0%\nValidation accuracy: 83.0%\nMinibatch loss at step 850: 0.282820\nMinibatch accuracy: 87.5%\nValidation accuracy: 82.9%\nMinibatch loss at step 900: 1.034800\nMinibatch accuracy: 62.5%\nValidation accuracy: 83.2%\nMinibatch loss at step 950: 0.854276\nMinibatch accuracy: 81.2%\nValidation accuracy: 83.2%\nMinibatch loss at step 1000: 0.691373\nMinibatch accuracy: 87.5%\nValidation accuracy: 83.2%\nTest accuracy: 89.7%\n"
    }
   ],
   "source": [
    "num_steps = 1001\n",
    "\n",
    "with tf.Session(graph=graph) as session:\n",
    "    tf.initialize_all_variables().run()\n",
    "    print('Initialized')\n",
    "    for step in range(num_steps):\n",
    "        offset = (step * batch_size) % (train_labels.shape[0] - batch_size)\n",
    "        batch_data = train_dataset[offset:(offset + batch_size), :, :, :]\n",
    "        batch_labels = train_labels[offset:(offset + batch_size), :]\n",
    "        feed_dict = {tf_train_dataset : batch_data, tf_train_labels : batch_labels}\n",
    "        _, l, predictions = session.run([optimizer, loss, train_prediction], feed_dict=feed_dict)\n",
    "        if (step % 50 == 0):\n",
    "            print('Minibatch loss at step %d: %f' % (step, l))\n",
    "            print('Minibatch accuracy: %.1f%%' % accuracy(predictions, batch_labels))\n",
    "            print('Validation accuracy: %.1f%%' % accuracy(valid_prediction.eval(), valid_labels))\n",
    "    print('Test accuracy: %.1f%%' % accuracy(test_prediction.eval(), test_labels))"
   ]
  },
  {
   "cell_type": "markdown",
   "metadata": {
    "colab_type": "text",
    "id": "klf21gpbAgb-"
   },
   "source": [
    "---\n",
    "Problem 3\n",
    "---------\n",
    "\n",
    "Try to get the best performance you can using a convolutional net. Look for example at the classic [LeNet5](http://yann.lecun.com/exdb/lenet/) architecture, adding Dropout, and/or adding learning rate decay.\n",
    "\n",
    "---"
   ]
  },
  {
   "cell_type": "code",
   "execution_count": 35,
   "metadata": {
    "colab": {},
    "colab_type": "code",
    "id": "RrmxnRGY-m8X",
    "tags": []
   },
   "outputs": [],
   "source": [
    "def output_size_pool(input_size, conv_filter_size, pool_filter_size, padding, conv_stride, pool_stride):\n",
    "    if padding == 'same':\n",
    "        padding = -1.00\n",
    "    elif padding == 'valid':\n",
    "        padding = 0.00\n",
    "    else:\n",
    "        return None\n",
    "    \n",
    "    output_1 = (((input_size - conv_filter_size - 2*padding) / conv_stride) + 1.00)\n",
    "    output_2 = (((output_1 - pool_filter_size - 2*padding) / pool_stride) + 1.00)    \n",
    "    output_3 = (((output_2 - conv_filter_size - 2*padding) / conv_stride) + 1.00)\n",
    "    output_4 = (((output_3 - pool_filter_size - 2*padding) / pool_stride) + 1.00)\n",
    "\n",
    "    return int(output_4)\n",
    "\n",
    "batch_size = 16\n",
    "depth = 32\n",
    "num_hidden = 64\n",
    "\n",
    "graph = tf.Graph()\n",
    "with graph.as_default():\n",
    "    tf_train_dataset = tf.placeholder(tf.float32, shape=(batch_size, image_size, image_size, num_channels))\n",
    "    tf_train_labels = tf.placeholder(tf.float32, shape=(batch_size, num_labels))\n",
    "    tf_valid_dataset = tf.constant(valid_dataset)\n",
    "    tf_test_dataset = tf.constant(test_dataset)\n",
    "\n",
    "    weights_l1 = tf.Variable(tf.truncated_normal([patch_size, patch_size, num_channels, depth], stddev=0.1))\n",
    "    biases_l1 = tf.Variable(tf.zeros([depth]))\n",
    "\n",
    "    weights_l2 = tf.Variable(tf.truncated_normal([patch_size, patch_size, depth, depth], stddev=0.1))\n",
    "    biases_l2 = tf.Variable(tf.constant(1.0, shape=[depth]))\n",
    "  \n",
    "    final_image_size = output_size_pool(input_size=image_size, conv_filter_size=5, pool_filter_size=2, padding='valid', conv_stride=1, pool_stride=2)\n",
    "    weights_l3 = tf.Variable(tf.truncated_normal([final_image_size * final_image_size * depth, num_hidden], stddev=0.1))\n",
    "    biases_l3 = tf.Variable(tf.constant(1.0, shape=[num_hidden]))\n",
    "    \n",
    "    weights_l4 = tf.Variable(tf.truncated_normal([num_hidden, num_hidden], stddev=0.1))\n",
    "    biases_l4 = tf.Variable(tf.constant(1.0, shape=[num_hidden]))\n",
    "    \n",
    "    weights_l5 = tf.Variable(tf.truncated_normal([num_hidden, num_labels], stddev=0.1))\n",
    "    biases_l5 = tf.Variable(tf.constant(1.0, shape=[num_labels]))\n",
    "\n",
    "    # Model.\n",
    "    def model(data):\n",
    "        conv_1 = tf.nn.conv2d(data, weights_l1, strides=[1, 1, 1, 1], padding='VALID')\n",
    "        hidden_1 = tf.nn.relu(conv_1 + biases_l1)\n",
    "        pool_1 = tf.nn.avg_pool(hidden_1, [1, 2, 2, 1], [1, 2, 2, 1], padding='VALID')\n",
    "        \n",
    "        conv_2 = tf.nn.conv2d(pool_1, weights_l2, strides=[1, 1, 1, 1], padding='VALID')\n",
    "        hidden_2 = tf.nn.relu(conv_2 + biases_l2)\n",
    "        pool_2 = tf.nn.avg_pool(hidden_2, [1, 2, 2, 1], [1, 2, 2, 1], padding='VALID')\n",
    "        \n",
    "        shape = pool_2.get_shape().as_list()\n",
    "        reshape = tf.reshape(pool_2, [shape[0], shape[1] * shape[2] * shape[3]])\n",
    "        hidden = tf.nn.relu(tf.matmul(reshape, weights_l3) + biases_l3)\n",
    "        keep_prob = 0.5\n",
    "        hidden_drop = tf.nn.dropout(hidden, keep_prob)\n",
    "        \n",
    "        hidden_2 = tf.nn.relu(tf.matmul(hidden_drop, weights_l4) + biases_l4)\n",
    "        hidden_2_drop = tf.nn.dropout(hidden_2, keep_prob)\n",
    "        \n",
    "        return tf.matmul(hidden_2_drop, weights_l5) + biases_l5\n",
    "\n",
    "    def compute_loss(labels, logits):\n",
    "        return tf.reduce_mean(tf.nn.softmax_cross_entropy_with_logits_v2(logits=logits, labels=labels))\n",
    "        \n",
    "    # Training computation.\n",
    "    logits = model(tf_train_dataset)\n",
    "    loss = compute_loss(tf_train_labels, logits)\n",
    "\n",
    "    global_step = tf.Variable(0) \n",
    "    start_learning_rate = 0.05\n",
    "    learning_rate = tf.train.exponential_decay(start_learning_rate, global_step, 100000, 0.96, staircase=True)\n",
    "\n",
    "    # Optimizer.\n",
    "    optimizer = tf.train.GradientDescentOptimizer(learning_rate).minimize(loss)\n",
    "\n",
    "    # Predictions for the training, validation, and test data.\n",
    "    train_prediction = tf.nn.softmax(logits)\n",
    "    valid_prediction = tf.nn.softmax(model(tf_valid_dataset))\n",
    "    test_prediction = tf.nn.softmax(model(tf_test_dataset))"
   ]
  },
  {
   "cell_type": "code",
   "execution_count": 36,
   "metadata": {
    "tags": []
   },
   "outputs": [
    {
     "output_type": "stream",
     "name": "stdout",
     "text": "Initialized\nMinibatch loss at step 0: 4.057242\nMinibatch accuracy: 6.2%\nValidation accuracy: 9.8%\nMinibatch loss at step 50: 2.182587\nMinibatch accuracy: 25.0%\nValidation accuracy: 19.8%\nMinibatch loss at step 100: 1.758024\nMinibatch accuracy: 43.8%\nValidation accuracy: 28.6%\nMinibatch loss at step 150: 1.121899\nMinibatch accuracy: 50.0%\nValidation accuracy: 34.4%\nMinibatch loss at step 200: 1.636439\nMinibatch accuracy: 37.5%\nValidation accuracy: 40.3%\nMinibatch loss at step 250: 0.999373\nMinibatch accuracy: 75.0%\nValidation accuracy: 43.7%\nMinibatch loss at step 300: 1.820318\nMinibatch accuracy: 43.8%\nValidation accuracy: 47.6%\nMinibatch loss at step 350: 2.289584\nMinibatch accuracy: 50.0%\nValidation accuracy: 47.4%\nMinibatch loss at step 400: 1.541235\nMinibatch accuracy: 43.8%\nValidation accuracy: 51.0%\nMinibatch loss at step 450: 1.045562\nMinibatch accuracy: 62.5%\nValidation accuracy: 54.2%\nMinibatch loss at step 500: 1.564436\nMinibatch accuracy: 43.8%\nValidation accuracy: 56.3%\nMinibatch loss at step 550: 0.890231\nMinibatch accuracy: 68.8%\nValidation accuracy: 58.3%\nMinibatch loss at step 600: 1.368468\nMinibatch accuracy: 56.2%\nValidation accuracy: 56.0%\nMinibatch loss at step 650: 1.072535\nMinibatch accuracy: 56.2%\nValidation accuracy: 60.5%\nMinibatch loss at step 700: 1.355709\nMinibatch accuracy: 56.2%\nValidation accuracy: 59.0%\nMinibatch loss at step 750: 0.994850\nMinibatch accuracy: 68.8%\nValidation accuracy: 60.8%\nMinibatch loss at step 800: 1.146089\nMinibatch accuracy: 68.8%\nValidation accuracy: 64.6%\nMinibatch loss at step 850: 1.088644\nMinibatch accuracy: 68.8%\nValidation accuracy: 65.4%\nMinibatch loss at step 900: 1.315702\nMinibatch accuracy: 68.8%\nValidation accuracy: 65.9%\nMinibatch loss at step 950: 1.439490\nMinibatch accuracy: 50.0%\nValidation accuracy: 66.5%\nMinibatch loss at step 1000: 1.000263\nMinibatch accuracy: 62.5%\nValidation accuracy: 67.4%\nTest accuracy: 73.0%\n"
    }
   ],
   "source": [
    "num_steps = 1001\n",
    "\n",
    "with tf.Session(graph=graph) as session:\n",
    "    tf.initialize_all_variables().run()\n",
    "    print('Initialized')\n",
    "    for step in range(num_steps):\n",
    "        offset = (step * batch_size) % (train_labels.shape[0] - batch_size)\n",
    "        batch_data = train_dataset[offset:(offset + batch_size), :, :, :]\n",
    "        batch_labels = train_labels[offset:(offset + batch_size), :]\n",
    "        feed_dict = {tf_train_dataset : batch_data, tf_train_labels : batch_labels}\n",
    "        _, l, predictions = session.run([optimizer, loss, train_prediction], feed_dict=feed_dict)\n",
    "        if (step % 50 == 0):\n",
    "            print('Minibatch loss at step %d: %f' % (step, l))\n",
    "            print('Minibatch accuracy: %.1f%%' % accuracy(predictions, batch_labels))\n",
    "            print('Validation accuracy: %.1f%%' % accuracy(valid_prediction.eval(), valid_labels))\n",
    "    print('Test accuracy: %.1f%%' % accuracy(test_prediction.eval(), test_labels))"
   ]
  }
 ],
 "metadata": {
  "colab": {
   "name": "cnn.ipynb",
   "provenance": []
  },
  "kernelspec": {
   "display_name": "Python 3.7.5 64-bit ('venv': venv)",
   "language": "python",
   "name": "python37564bitvenvvenvd10f0a82fcd24558ab17c5dfb27162a8"
  },
  "language_info": {
   "codemirror_mode": {
    "name": "ipython",
    "version": 3
   },
   "file_extension": ".py",
   "mimetype": "text/x-python",
   "name": "python",
   "nbconvert_exporter": "python",
   "pygments_lexer": "ipython3",
   "version": "3.7.5-final"
  }
 },
 "nbformat": 4,
 "nbformat_minor": 1
}